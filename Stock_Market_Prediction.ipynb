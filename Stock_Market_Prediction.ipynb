{
 "cells": [
  {
   "cell_type": "code",
   "execution_count": 1,
   "id": "0eea1810",
   "metadata": {
    "id": "0eea1810"
   },
   "outputs": [
    {
     "name": "stderr",
     "output_type": "stream",
     "text": [
      "<frozen importlib._bootstrap>:219: RuntimeWarning: scipy._lib.messagestream.MessageStream size changed, may indicate binary incompatibility. Expected 56 from C header, got 64 from PyObject\n"
     ]
    }
   ],
   "source": [
    "import pandas as pd\n",
    "import numpy as np\n",
    "import matplotlib.pyplot as plt\n",
    "import seaborn as sns\n",
    "%matplotlib inline\n",
    "import csv\n",
    "import pandas_datareader as pdr\n",
    "from datetime import datetime\n",
    "from sklearn.model_selection import cross_val_score\n",
    "from sklearn.metrics import classification_report, confusion_matrix\n",
    "from sklearn.model_selection import RandomizedSearchCV\n",
    "from sklearn import model_selection\n",
    "import matplotlib.pyplot as plt\n",
    "from sklearn import datasets\n",
    "from sklearn.model_selection import train_test_split\n",
    "from mlxtend.plotting import plot_decision_regions\n",
    "from sklearn.metrics import accuracy_score\n",
    "from sklearn.ensemble import RandomForestClassifier\n",
    "from sklearn.naive_bayes import GaussianNB\n",
    "from sklearn.naive_bayes import BernoulliNB\n",
    "from sklearn.naive_bayes import CategoricalNB"
   ]
  },
  {
   "cell_type": "code",
   "execution_count": null,
   "id": "97e1eb54",
   "metadata": {
    "id": "97e1eb54"
   },
   "outputs": [],
   "source": [
    "df=pd.read_csv('/content/sample_data/sheet.csv')"
   ]
  },
  {
   "cell_type": "code",
   "execution_count": null,
   "id": "7c328169",
   "metadata": {
    "colab": {
     "base_uri": "https://localhost:8080/",
     "height": 352
    },
    "id": "7c328169",
    "outputId": "537d0106-80e4-4c2c-d008-94d539bb5864"
   },
   "outputs": [
    {
     "data": {
      "text/html": [
       "\n",
       "  <div id=\"df-4050cf83-5ee8-4658-bd68-6295d6d9852f\">\n",
       "    <div class=\"colab-df-container\">\n",
       "      <div>\n",
       "<style scoped>\n",
       "    .dataframe tbody tr th:only-of-type {\n",
       "        vertical-align: middle;\n",
       "    }\n",
       "\n",
       "    .dataframe tbody tr th {\n",
       "        vertical-align: top;\n",
       "    }\n",
       "\n",
       "    .dataframe thead th {\n",
       "        text-align: right;\n",
       "    }\n",
       "</style>\n",
       "<table border=\"1\" class=\"dataframe\">\n",
       "  <thead>\n",
       "    <tr style=\"text-align: right;\">\n",
       "      <th></th>\n",
       "      <th>Date</th>\n",
       "      <th>Open</th>\n",
       "      <th>High</th>\n",
       "      <th>Low</th>\n",
       "      <th>Close</th>\n",
       "      <th>Adj Close</th>\n",
       "      <th>Volume</th>\n",
       "      <th>RSI</th>\n",
       "      <th>Upper Bollinger band</th>\n",
       "      <th>Lower Bollinger band</th>\n",
       "      <th>...</th>\n",
       "      <th>EMA 12</th>\n",
       "      <th>EMA 26</th>\n",
       "      <th>Volume Weighted Average Price</th>\n",
       "      <th>William % R</th>\n",
       "      <th>Commodity Channel Index</th>\n",
       "      <th>Rate of Change (10 days)</th>\n",
       "      <th>Aroon Up</th>\n",
       "      <th>Aroon Down</th>\n",
       "      <th>MACD</th>\n",
       "      <th>BUY/SELL</th>\n",
       "    </tr>\n",
       "  </thead>\n",
       "  <tbody>\n",
       "    <tr>\n",
       "      <th>0</th>\n",
       "      <td>2010/02/09</td>\n",
       "      <td>492.209351</td>\n",
       "      <td>494.314392</td>\n",
       "      <td>486.736237</td>\n",
       "      <td>491.961700</td>\n",
       "      <td>445.888885</td>\n",
       "      <td>6595770</td>\n",
       "      <td>77.363565</td>\n",
       "      <td>538.556974</td>\n",
       "      <td>482.723033</td>\n",
       "      <td>...</td>\n",
       "      <td>507.070528</td>\n",
       "      <td>526.112973</td>\n",
       "      <td>525.687818</td>\n",
       "      <td>-82.107805</td>\n",
       "      <td>-133.346702</td>\n",
       "      <td>-0.04683073594</td>\n",
       "      <td>32</td>\n",
       "      <td>88</td>\n",
       "      <td>-19.042446</td>\n",
       "      <td>0</td>\n",
       "    </tr>\n",
       "    <tr>\n",
       "      <th>1</th>\n",
       "      <td>2010/02/10</td>\n",
       "      <td>495.255463</td>\n",
       "      <td>495.255463</td>\n",
       "      <td>486.389526</td>\n",
       "      <td>487.924957</td>\n",
       "      <td>442.230225</td>\n",
       "      <td>8427562</td>\n",
       "      <td>77.450994</td>\n",
       "      <td>534.379680</td>\n",
       "      <td>480.362298</td>\n",
       "      <td>...</td>\n",
       "      <td>504.125055</td>\n",
       "      <td>523.284232</td>\n",
       "      <td>524.857180</td>\n",
       "      <td>-89.479146</td>\n",
       "      <td>-126.800124</td>\n",
       "      <td>-0.04131185583</td>\n",
       "      <td>28</td>\n",
       "      <td>84</td>\n",
       "      <td>-19.159176</td>\n",
       "      <td>-1</td>\n",
       "    </tr>\n",
       "    <tr>\n",
       "      <th>2</th>\n",
       "      <td>2010/02/11</td>\n",
       "      <td>489.980469</td>\n",
       "      <td>505.112030</td>\n",
       "      <td>489.609009</td>\n",
       "      <td>502.808868</td>\n",
       "      <td>455.720215</td>\n",
       "      <td>10822218</td>\n",
       "      <td>73.800489</td>\n",
       "      <td>529.706166</td>\n",
       "      <td>482.283331</td>\n",
       "      <td>...</td>\n",
       "      <td>503.922565</td>\n",
       "      <td>521.767538</td>\n",
       "      <td>524.114793</td>\n",
       "      <td>-50.645372</td>\n",
       "      <td>-81.142246</td>\n",
       "      <td>-0.02121195237</td>\n",
       "      <td>24</td>\n",
       "      <td>80</td>\n",
       "      <td>-17.844973</td>\n",
       "      <td>1</td>\n",
       "    </tr>\n",
       "    <tr>\n",
       "      <th>3</th>\n",
       "      <td>2010/02/15</td>\n",
       "      <td>508.678253</td>\n",
       "      <td>508.678253</td>\n",
       "      <td>499.069336</td>\n",
       "      <td>500.258057</td>\n",
       "      <td>453.408264</td>\n",
       "      <td>6229609</td>\n",
       "      <td>62.190715</td>\n",
       "      <td>526.939071</td>\n",
       "      <td>481.947695</td>\n",
       "      <td>...</td>\n",
       "      <td>503.358794</td>\n",
       "      <td>520.174243</td>\n",
       "      <td>523.763755</td>\n",
       "      <td>-56.976014</td>\n",
       "      <td>-62.805145</td>\n",
       "      <td>-0.03460143653</td>\n",
       "      <td>20</td>\n",
       "      <td>76</td>\n",
       "      <td>-16.815449</td>\n",
       "      <td>-1</td>\n",
       "    </tr>\n",
       "    <tr>\n",
       "      <th>4</th>\n",
       "      <td>2010/02/16</td>\n",
       "      <td>500.307587</td>\n",
       "      <td>505.706421</td>\n",
       "      <td>497.781525</td>\n",
       "      <td>504.096680</td>\n",
       "      <td>456.887390</td>\n",
       "      <td>4646498</td>\n",
       "      <td>59.535849</td>\n",
       "      <td>524.309725</td>\n",
       "      <td>482.857629</td>\n",
       "      <td>...</td>\n",
       "      <td>503.472315</td>\n",
       "      <td>518.983313</td>\n",
       "      <td>523.507625</td>\n",
       "      <td>-47.449261</td>\n",
       "      <td>-61.770626</td>\n",
       "      <td>-0.02644921791</td>\n",
       "      <td>16</td>\n",
       "      <td>72</td>\n",
       "      <td>-15.510997</td>\n",
       "      <td>1</td>\n",
       "    </tr>\n",
       "  </tbody>\n",
       "</table>\n",
       "<p>5 rows × 22 columns</p>\n",
       "</div>\n",
       "      <button class=\"colab-df-convert\" onclick=\"convertToInteractive('df-4050cf83-5ee8-4658-bd68-6295d6d9852f')\"\n",
       "              title=\"Convert this dataframe to an interactive table.\"\n",
       "              style=\"display:none;\">\n",
       "        \n",
       "  <svg xmlns=\"http://www.w3.org/2000/svg\" height=\"24px\"viewBox=\"0 0 24 24\"\n",
       "       width=\"24px\">\n",
       "    <path d=\"M0 0h24v24H0V0z\" fill=\"none\"/>\n",
       "    <path d=\"M18.56 5.44l.94 2.06.94-2.06 2.06-.94-2.06-.94-.94-2.06-.94 2.06-2.06.94zm-11 1L8.5 8.5l.94-2.06 2.06-.94-2.06-.94L8.5 2.5l-.94 2.06-2.06.94zm10 10l.94 2.06.94-2.06 2.06-.94-2.06-.94-.94-2.06-.94 2.06-2.06.94z\"/><path d=\"M17.41 7.96l-1.37-1.37c-.4-.4-.92-.59-1.43-.59-.52 0-1.04.2-1.43.59L10.3 9.45l-7.72 7.72c-.78.78-.78 2.05 0 2.83L4 21.41c.39.39.9.59 1.41.59.51 0 1.02-.2 1.41-.59l7.78-7.78 2.81-2.81c.8-.78.8-2.07 0-2.86zM5.41 20L4 18.59l7.72-7.72 1.47 1.35L5.41 20z\"/>\n",
       "  </svg>\n",
       "      </button>\n",
       "      \n",
       "  <style>\n",
       "    .colab-df-container {\n",
       "      display:flex;\n",
       "      flex-wrap:wrap;\n",
       "      gap: 12px;\n",
       "    }\n",
       "\n",
       "    .colab-df-convert {\n",
       "      background-color: #E8F0FE;\n",
       "      border: none;\n",
       "      border-radius: 50%;\n",
       "      cursor: pointer;\n",
       "      display: none;\n",
       "      fill: #1967D2;\n",
       "      height: 32px;\n",
       "      padding: 0 0 0 0;\n",
       "      width: 32px;\n",
       "    }\n",
       "\n",
       "    .colab-df-convert:hover {\n",
       "      background-color: #E2EBFA;\n",
       "      box-shadow: 0px 1px 2px rgba(60, 64, 67, 0.3), 0px 1px 3px 1px rgba(60, 64, 67, 0.15);\n",
       "      fill: #174EA6;\n",
       "    }\n",
       "\n",
       "    [theme=dark] .colab-df-convert {\n",
       "      background-color: #3B4455;\n",
       "      fill: #D2E3FC;\n",
       "    }\n",
       "\n",
       "    [theme=dark] .colab-df-convert:hover {\n",
       "      background-color: #434B5C;\n",
       "      box-shadow: 0px 1px 3px 1px rgba(0, 0, 0, 0.15);\n",
       "      filter: drop-shadow(0px 1px 2px rgba(0, 0, 0, 0.3));\n",
       "      fill: #FFFFFF;\n",
       "    }\n",
       "  </style>\n",
       "\n",
       "      <script>\n",
       "        const buttonEl =\n",
       "          document.querySelector('#df-4050cf83-5ee8-4658-bd68-6295d6d9852f button.colab-df-convert');\n",
       "        buttonEl.style.display =\n",
       "          google.colab.kernel.accessAllowed ? 'block' : 'none';\n",
       "\n",
       "        async function convertToInteractive(key) {\n",
       "          const element = document.querySelector('#df-4050cf83-5ee8-4658-bd68-6295d6d9852f');\n",
       "          const dataTable =\n",
       "            await google.colab.kernel.invokeFunction('convertToInteractive',\n",
       "                                                     [key], {});\n",
       "          if (!dataTable) return;\n",
       "\n",
       "          const docLinkHtml = 'Like what you see? Visit the ' +\n",
       "            '<a target=\"_blank\" href=https://colab.research.google.com/notebooks/data_table.ipynb>data table notebook</a>'\n",
       "            + ' to learn more about interactive tables.';\n",
       "          element.innerHTML = '';\n",
       "          dataTable['output_type'] = 'display_data';\n",
       "          await google.colab.output.renderOutput(dataTable, element);\n",
       "          const docLink = document.createElement('div');\n",
       "          docLink.innerHTML = docLinkHtml;\n",
       "          element.appendChild(docLink);\n",
       "        }\n",
       "      </script>\n",
       "    </div>\n",
       "  </div>\n",
       "  "
      ],
      "text/plain": [
       "         Date        Open        High         Low       Close   Adj Close  \\\n",
       "0  2010/02/09  492.209351  494.314392  486.736237  491.961700  445.888885   \n",
       "1  2010/02/10  495.255463  495.255463  486.389526  487.924957  442.230225   \n",
       "2  2010/02/11  489.980469  505.112030  489.609009  502.808868  455.720215   \n",
       "3  2010/02/15  508.678253  508.678253  499.069336  500.258057  453.408264   \n",
       "4  2010/02/16  500.307587  505.706421  497.781525  504.096680  456.887390   \n",
       "\n",
       "     Volume        RSI  Upper Bollinger band  Lower Bollinger band  ...  \\\n",
       "0   6595770  77.363565            538.556974            482.723033  ...   \n",
       "1   8427562  77.450994            534.379680            480.362298  ...   \n",
       "2  10822218  73.800489            529.706166            482.283331  ...   \n",
       "3   6229609  62.190715            526.939071            481.947695  ...   \n",
       "4   4646498  59.535849            524.309725            482.857629  ...   \n",
       "\n",
       "       EMA 12      EMA 26  Volume Weighted Average Price  William % R  \\\n",
       "0  507.070528  526.112973                     525.687818   -82.107805   \n",
       "1  504.125055  523.284232                     524.857180   -89.479146   \n",
       "2  503.922565  521.767538                     524.114793   -50.645372   \n",
       "3  503.358794  520.174243                     523.763755   -56.976014   \n",
       "4  503.472315  518.983313                     523.507625   -47.449261   \n",
       "\n",
       "   Commodity Channel Index  Rate of Change (10 days)  Aroon Up Aroon Down  \\\n",
       "0              -133.346702            -0.04683073594        32         88   \n",
       "1              -126.800124            -0.04131185583        28         84   \n",
       "2               -81.142246            -0.02121195237        24         80   \n",
       "3               -62.805145            -0.03460143653        20         76   \n",
       "4               -61.770626            -0.02644921791        16         72   \n",
       "\n",
       "        MACD  BUY/SELL  \n",
       "0 -19.042446         0  \n",
       "1 -19.159176        -1  \n",
       "2 -17.844973         1  \n",
       "3 -16.815449        -1  \n",
       "4 -15.510997         1  \n",
       "\n",
       "[5 rows x 22 columns]"
      ]
     },
     "execution_count": 9,
     "metadata": {},
     "output_type": "execute_result"
    }
   ],
   "source": [
    "df.head()"
   ]
  },
  {
   "cell_type": "code",
   "execution_count": null,
   "id": "3f999d87",
   "metadata": {
    "id": "3f999d87"
   },
   "outputs": [],
   "source": [
    "df.tail()"
   ]
  },
  {
   "cell_type": "code",
   "execution_count": null,
   "id": "8bfee4d0",
   "metadata": {
    "id": "8bfee4d0"
   },
   "outputs": [],
   "source": [
    "df.shape"
   ]
  },
  {
   "cell_type": "code",
   "execution_count": null,
   "id": "e9b2a82e",
   "metadata": {
    "id": "e9b2a82e"
   },
   "outputs": [],
   "source": [
    "dff=df.set_index('Date')"
   ]
  },
  {
   "cell_type": "code",
   "execution_count": null,
   "id": "929392d0",
   "metadata": {
    "colab": {
     "base_uri": "https://localhost:8080/",
     "height": 571
    },
    "id": "929392d0",
    "outputId": "3346a00f-119a-4ea6-8b1a-61b58e733ab9"
   },
   "outputs": [
    {
     "data": {
      "text/html": [
       "\n",
       "  <div id=\"df-3759fb98-0789-43ec-a447-a5dc4f41562d\">\n",
       "    <div class=\"colab-df-container\">\n",
       "      <div>\n",
       "<style scoped>\n",
       "    .dataframe tbody tr th:only-of-type {\n",
       "        vertical-align: middle;\n",
       "    }\n",
       "\n",
       "    .dataframe tbody tr th {\n",
       "        vertical-align: top;\n",
       "    }\n",
       "\n",
       "    .dataframe thead th {\n",
       "        text-align: right;\n",
       "    }\n",
       "</style>\n",
       "<table border=\"1\" class=\"dataframe\">\n",
       "  <thead>\n",
       "    <tr style=\"text-align: right;\">\n",
       "      <th></th>\n",
       "      <th>Open</th>\n",
       "      <th>High</th>\n",
       "      <th>Low</th>\n",
       "      <th>Close</th>\n",
       "      <th>Adj Close</th>\n",
       "      <th>Volume</th>\n",
       "      <th>RSI</th>\n",
       "      <th>Upper Bollinger band</th>\n",
       "      <th>Lower Bollinger band</th>\n",
       "      <th>%K (5 days stochastic oscillator)</th>\n",
       "      <th>...</th>\n",
       "      <th>EMA 12</th>\n",
       "      <th>EMA 26</th>\n",
       "      <th>Volume Weighted Average Price</th>\n",
       "      <th>William % R</th>\n",
       "      <th>Commodity Channel Index</th>\n",
       "      <th>Rate of Change (10 days)</th>\n",
       "      <th>Aroon Up</th>\n",
       "      <th>Aroon Down</th>\n",
       "      <th>MACD</th>\n",
       "      <th>BUY/SELL</th>\n",
       "    </tr>\n",
       "    <tr>\n",
       "      <th>Date</th>\n",
       "      <th></th>\n",
       "      <th></th>\n",
       "      <th></th>\n",
       "      <th></th>\n",
       "      <th></th>\n",
       "      <th></th>\n",
       "      <th></th>\n",
       "      <th></th>\n",
       "      <th></th>\n",
       "      <th></th>\n",
       "      <th></th>\n",
       "      <th></th>\n",
       "      <th></th>\n",
       "      <th></th>\n",
       "      <th></th>\n",
       "      <th></th>\n",
       "      <th></th>\n",
       "      <th></th>\n",
       "      <th></th>\n",
       "      <th></th>\n",
       "      <th></th>\n",
       "    </tr>\n",
       "  </thead>\n",
       "  <tbody>\n",
       "    <tr>\n",
       "      <th>2010/02/09</th>\n",
       "      <td>492.209351</td>\n",
       "      <td>494.314392</td>\n",
       "      <td>486.736237</td>\n",
       "      <td>491.961700</td>\n",
       "      <td>445.888885</td>\n",
       "      <td>6595770</td>\n",
       "      <td>77.363565</td>\n",
       "      <td>538.556974</td>\n",
       "      <td>482.723033</td>\n",
       "      <td>24.863803</td>\n",
       "      <td>...</td>\n",
       "      <td>507.070528</td>\n",
       "      <td>526.112973</td>\n",
       "      <td>525.687818</td>\n",
       "      <td>-82.107805</td>\n",
       "      <td>-133.346702</td>\n",
       "      <td>-0.04683073594</td>\n",
       "      <td>32</td>\n",
       "      <td>88</td>\n",
       "      <td>-19.042446</td>\n",
       "      <td>0</td>\n",
       "    </tr>\n",
       "    <tr>\n",
       "      <th>2010/02/10</th>\n",
       "      <td>495.255463</td>\n",
       "      <td>495.255463</td>\n",
       "      <td>486.389526</td>\n",
       "      <td>487.924957</td>\n",
       "      <td>442.230225</td>\n",
       "      <td>8427562</td>\n",
       "      <td>77.450994</td>\n",
       "      <td>534.379680</td>\n",
       "      <td>480.362298</td>\n",
       "      <td>16.031785</td>\n",
       "      <td>...</td>\n",
       "      <td>504.125055</td>\n",
       "      <td>523.284232</td>\n",
       "      <td>524.857180</td>\n",
       "      <td>-89.479146</td>\n",
       "      <td>-126.800124</td>\n",
       "      <td>-0.04131185583</td>\n",
       "      <td>28</td>\n",
       "      <td>84</td>\n",
       "      <td>-19.159176</td>\n",
       "      <td>-1</td>\n",
       "    </tr>\n",
       "    <tr>\n",
       "      <th>2010/02/11</th>\n",
       "      <td>489.980469</td>\n",
       "      <td>505.112030</td>\n",
       "      <td>489.609009</td>\n",
       "      <td>502.808868</td>\n",
       "      <td>455.720215</td>\n",
       "      <td>10822218</td>\n",
       "      <td>73.800489</td>\n",
       "      <td>529.706166</td>\n",
       "      <td>482.283331</td>\n",
       "      <td>89.620565</td>\n",
       "      <td>...</td>\n",
       "      <td>503.922565</td>\n",
       "      <td>521.767538</td>\n",
       "      <td>524.114793</td>\n",
       "      <td>-50.645372</td>\n",
       "      <td>-81.142246</td>\n",
       "      <td>-0.02121195237</td>\n",
       "      <td>24</td>\n",
       "      <td>80</td>\n",
       "      <td>-17.844973</td>\n",
       "      <td>1</td>\n",
       "    </tr>\n",
       "    <tr>\n",
       "      <th>2010/02/15</th>\n",
       "      <td>508.678253</td>\n",
       "      <td>508.678253</td>\n",
       "      <td>499.069336</td>\n",
       "      <td>500.258057</td>\n",
       "      <td>453.408264</td>\n",
       "      <td>6229609</td>\n",
       "      <td>62.190715</td>\n",
       "      <td>526.939071</td>\n",
       "      <td>481.947695</td>\n",
       "      <td>67.307688</td>\n",
       "      <td>...</td>\n",
       "      <td>503.358794</td>\n",
       "      <td>520.174243</td>\n",
       "      <td>523.763755</td>\n",
       "      <td>-56.976014</td>\n",
       "      <td>-62.805145</td>\n",
       "      <td>-0.03460143653</td>\n",
       "      <td>20</td>\n",
       "      <td>76</td>\n",
       "      <td>-16.815449</td>\n",
       "      <td>-1</td>\n",
       "    </tr>\n",
       "    <tr>\n",
       "      <th>2010/02/16</th>\n",
       "      <td>500.307587</td>\n",
       "      <td>505.706421</td>\n",
       "      <td>497.781525</td>\n",
       "      <td>504.096680</td>\n",
       "      <td>456.887390</td>\n",
       "      <td>4646498</td>\n",
       "      <td>59.535849</td>\n",
       "      <td>524.309725</td>\n",
       "      <td>482.857629</td>\n",
       "      <td>79.444438</td>\n",
       "      <td>...</td>\n",
       "      <td>503.472315</td>\n",
       "      <td>518.983313</td>\n",
       "      <td>523.507625</td>\n",
       "      <td>-47.449261</td>\n",
       "      <td>-61.770626</td>\n",
       "      <td>-0.02644921791</td>\n",
       "      <td>16</td>\n",
       "      <td>72</td>\n",
       "      <td>-15.510997</td>\n",
       "      <td>1</td>\n",
       "    </tr>\n",
       "    <tr>\n",
       "      <th>...</th>\n",
       "      <td>...</td>\n",
       "      <td>...</td>\n",
       "      <td>...</td>\n",
       "      <td>...</td>\n",
       "      <td>...</td>\n",
       "      <td>...</td>\n",
       "      <td>...</td>\n",
       "      <td>...</td>\n",
       "      <td>...</td>\n",
       "      <td>...</td>\n",
       "      <td>...</td>\n",
       "      <td>...</td>\n",
       "      <td>...</td>\n",
       "      <td>...</td>\n",
       "      <td>...</td>\n",
       "      <td>...</td>\n",
       "      <td>...</td>\n",
       "      <td>...</td>\n",
       "      <td>...</td>\n",
       "      <td>...</td>\n",
       "      <td>...</td>\n",
       "    </tr>\n",
       "    <tr>\n",
       "      <th>2022/09/05</th>\n",
       "      <td>2531.000000</td>\n",
       "      <td>2581.500000</td>\n",
       "      <td>2531.000000</td>\n",
       "      <td>2569.800049</td>\n",
       "      <td>2569.800049</td>\n",
       "      <td>5227785</td>\n",
       "      <td>58.195854</td>\n",
       "      <td>2691.671064</td>\n",
       "      <td>2541.343236</td>\n",
       "      <td>34.106791</td>\n",
       "      <td>...</td>\n",
       "      <td>2592.431907</td>\n",
       "      <td>2579.893536</td>\n",
       "      <td>1019.179252</td>\n",
       "      <td>-70.833259</td>\n",
       "      <td>-92.978210</td>\n",
       "      <td>-0.01685255365</td>\n",
       "      <td>48</td>\n",
       "      <td>0</td>\n",
       "      <td>12.538371</td>\n",
       "      <td>1</td>\n",
       "    </tr>\n",
       "    <tr>\n",
       "      <th>2022/09/06</th>\n",
       "      <td>2573.000000</td>\n",
       "      <td>2606.000000</td>\n",
       "      <td>2572.000000</td>\n",
       "      <td>2596.850098</td>\n",
       "      <td>2596.850098</td>\n",
       "      <td>5030172</td>\n",
       "      <td>58.608005</td>\n",
       "      <td>2687.970925</td>\n",
       "      <td>2537.264810</td>\n",
       "      <td>59.514946</td>\n",
       "      <td>...</td>\n",
       "      <td>2593.111629</td>\n",
       "      <td>2581.149578</td>\n",
       "      <td>1019.470203</td>\n",
       "      <td>-50.692916</td>\n",
       "      <td>-29.493616</td>\n",
       "      <td>-0.003740504732</td>\n",
       "      <td>44</td>\n",
       "      <td>0</td>\n",
       "      <td>11.962051</td>\n",
       "      <td>1</td>\n",
       "    </tr>\n",
       "    <tr>\n",
       "      <th>2022/09/07</th>\n",
       "      <td>2575.000000</td>\n",
       "      <td>2594.899902</td>\n",
       "      <td>2570.000000</td>\n",
       "      <td>2581.750000</td>\n",
       "      <td>2581.750000</td>\n",
       "      <td>3455942</td>\n",
       "      <td>58.895007</td>\n",
       "      <td>2681.110820</td>\n",
       "      <td>2532.210643</td>\n",
       "      <td>69.800766</td>\n",
       "      <td>...</td>\n",
       "      <td>2591.363686</td>\n",
       "      <td>2581.194053</td>\n",
       "      <td>1019.668841</td>\n",
       "      <td>-61.157290</td>\n",
       "      <td>-53.368680</td>\n",
       "      <td>-0.02457686557</td>\n",
       "      <td>40</td>\n",
       "      <td>0</td>\n",
       "      <td>10.169633</td>\n",
       "      <td>0</td>\n",
       "    </tr>\n",
       "    <tr>\n",
       "      <th>2022/09/08</th>\n",
       "      <td>2588.250000</td>\n",
       "      <td>2598.000000</td>\n",
       "      <td>2571.000000</td>\n",
       "      <td>2585.399902</td>\n",
       "      <td>2585.399902</td>\n",
       "      <td>3256840</td>\n",
       "      <td>60.656396</td>\n",
       "      <td>2670.549281</td>\n",
       "      <td>2531.929304</td>\n",
       "      <td>74.346095</td>\n",
       "      <td>...</td>\n",
       "      <td>2590.446181</td>\n",
       "      <td>2581.505598</td>\n",
       "      <td>1019.856298</td>\n",
       "      <td>-58.627907</td>\n",
       "      <td>-54.556808</td>\n",
       "      <td>-0.02058910806</td>\n",
       "      <td>36</td>\n",
       "      <td>80</td>\n",
       "      <td>8.940583</td>\n",
       "      <td>0</td>\n",
       "    </tr>\n",
       "    <tr>\n",
       "      <th>2022/09/09</th>\n",
       "      <td>2610.000000</td>\n",
       "      <td>2610.000000</td>\n",
       "      <td>2564.000000</td>\n",
       "      <td>2571.750000</td>\n",
       "      <td>2571.750000</td>\n",
       "      <td>2981738</td>\n",
       "      <td>56.135250</td>\n",
       "      <td>2662.438820</td>\n",
       "      <td>2534.025466</td>\n",
       "      <td>51.582278</td>\n",
       "      <td>...</td>\n",
       "      <td>2587.569845</td>\n",
       "      <td>2580.782961</td>\n",
       "      <td>1020.027566</td>\n",
       "      <td>-68.087295</td>\n",
       "      <td>-64.801299</td>\n",
       "      <td>-0.02290991732</td>\n",
       "      <td>32</td>\n",
       "      <td>76</td>\n",
       "      <td>6.786885</td>\n",
       "      <td>-1</td>\n",
       "    </tr>\n",
       "  </tbody>\n",
       "</table>\n",
       "<p>3113 rows × 21 columns</p>\n",
       "</div>\n",
       "      <button class=\"colab-df-convert\" onclick=\"convertToInteractive('df-3759fb98-0789-43ec-a447-a5dc4f41562d')\"\n",
       "              title=\"Convert this dataframe to an interactive table.\"\n",
       "              style=\"display:none;\">\n",
       "        \n",
       "  <svg xmlns=\"http://www.w3.org/2000/svg\" height=\"24px\"viewBox=\"0 0 24 24\"\n",
       "       width=\"24px\">\n",
       "    <path d=\"M0 0h24v24H0V0z\" fill=\"none\"/>\n",
       "    <path d=\"M18.56 5.44l.94 2.06.94-2.06 2.06-.94-2.06-.94-.94-2.06-.94 2.06-2.06.94zm-11 1L8.5 8.5l.94-2.06 2.06-.94-2.06-.94L8.5 2.5l-.94 2.06-2.06.94zm10 10l.94 2.06.94-2.06 2.06-.94-2.06-.94-.94-2.06-.94 2.06-2.06.94z\"/><path d=\"M17.41 7.96l-1.37-1.37c-.4-.4-.92-.59-1.43-.59-.52 0-1.04.2-1.43.59L10.3 9.45l-7.72 7.72c-.78.78-.78 2.05 0 2.83L4 21.41c.39.39.9.59 1.41.59.51 0 1.02-.2 1.41-.59l7.78-7.78 2.81-2.81c.8-.78.8-2.07 0-2.86zM5.41 20L4 18.59l7.72-7.72 1.47 1.35L5.41 20z\"/>\n",
       "  </svg>\n",
       "      </button>\n",
       "      \n",
       "  <style>\n",
       "    .colab-df-container {\n",
       "      display:flex;\n",
       "      flex-wrap:wrap;\n",
       "      gap: 12px;\n",
       "    }\n",
       "\n",
       "    .colab-df-convert {\n",
       "      background-color: #E8F0FE;\n",
       "      border: none;\n",
       "      border-radius: 50%;\n",
       "      cursor: pointer;\n",
       "      display: none;\n",
       "      fill: #1967D2;\n",
       "      height: 32px;\n",
       "      padding: 0 0 0 0;\n",
       "      width: 32px;\n",
       "    }\n",
       "\n",
       "    .colab-df-convert:hover {\n",
       "      background-color: #E2EBFA;\n",
       "      box-shadow: 0px 1px 2px rgba(60, 64, 67, 0.3), 0px 1px 3px 1px rgba(60, 64, 67, 0.15);\n",
       "      fill: #174EA6;\n",
       "    }\n",
       "\n",
       "    [theme=dark] .colab-df-convert {\n",
       "      background-color: #3B4455;\n",
       "      fill: #D2E3FC;\n",
       "    }\n",
       "\n",
       "    [theme=dark] .colab-df-convert:hover {\n",
       "      background-color: #434B5C;\n",
       "      box-shadow: 0px 1px 3px 1px rgba(0, 0, 0, 0.15);\n",
       "      filter: drop-shadow(0px 1px 2px rgba(0, 0, 0, 0.3));\n",
       "      fill: #FFFFFF;\n",
       "    }\n",
       "  </style>\n",
       "\n",
       "      <script>\n",
       "        const buttonEl =\n",
       "          document.querySelector('#df-3759fb98-0789-43ec-a447-a5dc4f41562d button.colab-df-convert');\n",
       "        buttonEl.style.display =\n",
       "          google.colab.kernel.accessAllowed ? 'block' : 'none';\n",
       "\n",
       "        async function convertToInteractive(key) {\n",
       "          const element = document.querySelector('#df-3759fb98-0789-43ec-a447-a5dc4f41562d');\n",
       "          const dataTable =\n",
       "            await google.colab.kernel.invokeFunction('convertToInteractive',\n",
       "                                                     [key], {});\n",
       "          if (!dataTable) return;\n",
       "\n",
       "          const docLinkHtml = 'Like what you see? Visit the ' +\n",
       "            '<a target=\"_blank\" href=https://colab.research.google.com/notebooks/data_table.ipynb>data table notebook</a>'\n",
       "            + ' to learn more about interactive tables.';\n",
       "          element.innerHTML = '';\n",
       "          dataTable['output_type'] = 'display_data';\n",
       "          await google.colab.output.renderOutput(dataTable, element);\n",
       "          const docLink = document.createElement('div');\n",
       "          docLink.innerHTML = docLinkHtml;\n",
       "          element.appendChild(docLink);\n",
       "        }\n",
       "      </script>\n",
       "    </div>\n",
       "  </div>\n",
       "  "
      ],
      "text/plain": [
       "                   Open         High          Low        Close    Adj Close  \\\n",
       "Date                                                                          \n",
       "2010/02/09   492.209351   494.314392   486.736237   491.961700   445.888885   \n",
       "2010/02/10   495.255463   495.255463   486.389526   487.924957   442.230225   \n",
       "2010/02/11   489.980469   505.112030   489.609009   502.808868   455.720215   \n",
       "2010/02/15   508.678253   508.678253   499.069336   500.258057   453.408264   \n",
       "2010/02/16   500.307587   505.706421   497.781525   504.096680   456.887390   \n",
       "...                 ...          ...          ...          ...          ...   \n",
       "2022/09/05  2531.000000  2581.500000  2531.000000  2569.800049  2569.800049   \n",
       "2022/09/06  2573.000000  2606.000000  2572.000000  2596.850098  2596.850098   \n",
       "2022/09/07  2575.000000  2594.899902  2570.000000  2581.750000  2581.750000   \n",
       "2022/09/08  2588.250000  2598.000000  2571.000000  2585.399902  2585.399902   \n",
       "2022/09/09  2610.000000  2610.000000  2564.000000  2571.750000  2571.750000   \n",
       "\n",
       "              Volume        RSI  Upper Bollinger band  Lower Bollinger band  \\\n",
       "Date                                                                          \n",
       "2010/02/09   6595770  77.363565            538.556974            482.723033   \n",
       "2010/02/10   8427562  77.450994            534.379680            480.362298   \n",
       "2010/02/11  10822218  73.800489            529.706166            482.283331   \n",
       "2010/02/15   6229609  62.190715            526.939071            481.947695   \n",
       "2010/02/16   4646498  59.535849            524.309725            482.857629   \n",
       "...              ...        ...                   ...                   ...   \n",
       "2022/09/05   5227785  58.195854           2691.671064           2541.343236   \n",
       "2022/09/06   5030172  58.608005           2687.970925           2537.264810   \n",
       "2022/09/07   3455942  58.895007           2681.110820           2532.210643   \n",
       "2022/09/08   3256840  60.656396           2670.549281           2531.929304   \n",
       "2022/09/09   2981738  56.135250           2662.438820           2534.025466   \n",
       "\n",
       "            %K (5 days stochastic oscillator)  ...       EMA 12       EMA 26  \\\n",
       "Date                                           ...                             \n",
       "2010/02/09                          24.863803  ...   507.070528   526.112973   \n",
       "2010/02/10                          16.031785  ...   504.125055   523.284232   \n",
       "2010/02/11                          89.620565  ...   503.922565   521.767538   \n",
       "2010/02/15                          67.307688  ...   503.358794   520.174243   \n",
       "2010/02/16                          79.444438  ...   503.472315   518.983313   \n",
       "...                                       ...  ...          ...          ...   \n",
       "2022/09/05                          34.106791  ...  2592.431907  2579.893536   \n",
       "2022/09/06                          59.514946  ...  2593.111629  2581.149578   \n",
       "2022/09/07                          69.800766  ...  2591.363686  2581.194053   \n",
       "2022/09/08                          74.346095  ...  2590.446181  2581.505598   \n",
       "2022/09/09                          51.582278  ...  2587.569845  2580.782961   \n",
       "\n",
       "            Volume Weighted Average Price  William % R  \\\n",
       "Date                                                     \n",
       "2010/02/09                     525.687818   -82.107805   \n",
       "2010/02/10                     524.857180   -89.479146   \n",
       "2010/02/11                     524.114793   -50.645372   \n",
       "2010/02/15                     523.763755   -56.976014   \n",
       "2010/02/16                     523.507625   -47.449261   \n",
       "...                                   ...          ...   \n",
       "2022/09/05                    1019.179252   -70.833259   \n",
       "2022/09/06                    1019.470203   -50.692916   \n",
       "2022/09/07                    1019.668841   -61.157290   \n",
       "2022/09/08                    1019.856298   -58.627907   \n",
       "2022/09/09                    1020.027566   -68.087295   \n",
       "\n",
       "            Commodity Channel Index  Rate of Change (10 days) Aroon Up  \\\n",
       "Date                                                                     \n",
       "2010/02/09              -133.346702            -0.04683073594       32   \n",
       "2010/02/10              -126.800124            -0.04131185583       28   \n",
       "2010/02/11               -81.142246            -0.02121195237       24   \n",
       "2010/02/15               -62.805145            -0.03460143653       20   \n",
       "2010/02/16               -61.770626            -0.02644921791       16   \n",
       "...                             ...                       ...      ...   \n",
       "2022/09/05               -92.978210            -0.01685255365       48   \n",
       "2022/09/06               -29.493616           -0.003740504732       44   \n",
       "2022/09/07               -53.368680            -0.02457686557       40   \n",
       "2022/09/08               -54.556808            -0.02058910806       36   \n",
       "2022/09/09               -64.801299            -0.02290991732       32   \n",
       "\n",
       "            Aroon Down       MACD  BUY/SELL  \n",
       "Date                                         \n",
       "2010/02/09          88 -19.042446         0  \n",
       "2010/02/10          84 -19.159176        -1  \n",
       "2010/02/11          80 -17.844973         1  \n",
       "2010/02/15          76 -16.815449        -1  \n",
       "2010/02/16          72 -15.510997         1  \n",
       "...                ...        ...       ...  \n",
       "2022/09/05           0  12.538371         1  \n",
       "2022/09/06           0  11.962051         1  \n",
       "2022/09/07           0  10.169633         0  \n",
       "2022/09/08          80   8.940583         0  \n",
       "2022/09/09          76   6.786885        -1  \n",
       "\n",
       "[3113 rows x 21 columns]"
      ]
     },
     "execution_count": 8,
     "metadata": {},
     "output_type": "execute_result"
    }
   ],
   "source": [
    "dff"
   ]
  },
  {
   "cell_type": "code",
   "execution_count": null,
   "id": "37ce1519",
   "metadata": {
    "colab": {
     "base_uri": "https://localhost:8080/"
    },
    "id": "37ce1519",
    "outputId": "487f22c9-a981-4554-cec3-e9b2e3ea73a1"
   },
   "outputs": [
    {
     "data": {
      "text/plain": [
       "pandas.core.frame.DataFrame"
      ]
     },
     "execution_count": 11,
     "metadata": {},
     "output_type": "execute_result"
    }
   ],
   "source": [
    "type(dff)"
   ]
  },
  {
   "cell_type": "code",
   "execution_count": null,
   "id": "a2a89a24",
   "metadata": {
    "colab": {
     "base_uri": "https://localhost:8080/"
    },
    "id": "a2a89a24",
    "outputId": "c1430379-6d4c-4ba5-ff26-44074da1fbe5"
   },
   "outputs": [
    {
     "data": {
      "text/plain": [
       "Index(['Open', 'High', 'Low', 'Close', 'Adj Close', 'Volume', 'RSI',\n",
       "       'Upper Bollinger band', 'Lower Bollinger band',\n",
       "       '%K (5 days stochastic oscillator)', '%D Average(H,3)', 'EMA 12',\n",
       "       'EMA 26', 'Volume Weighted Average Price', 'William % R',\n",
       "       'Commodity Channel Index', 'Rate of Change (10 days)', 'Aroon Up',\n",
       "       'Aroon Down', 'MACD', 'BUY/SELL'],\n",
       "      dtype='object')"
      ]
     },
     "execution_count": 12,
     "metadata": {},
     "output_type": "execute_result"
    }
   ],
   "source": [
    "dff.columns "
   ]
  },
  {
   "cell_type": "code",
   "execution_count": null,
   "id": "1d09409f",
   "metadata": {
    "colab": {
     "base_uri": "https://localhost:8080/"
    },
    "id": "1d09409f",
    "outputId": "c9c7a298-6963-4dfe-a157-49ae19600a55"
   },
   "outputs": [
    {
     "name": "stdout",
     "output_type": "stream",
     "text": [
      "<class 'pandas.core.frame.DataFrame'>\n",
      "Index: 3113 entries, 2010/02/09 to 2022/09/09\n",
      "Data columns (total 21 columns):\n",
      " #   Column                             Non-Null Count  Dtype  \n",
      "---  ------                             --------------  -----  \n",
      " 0   Open                               3113 non-null   float64\n",
      " 1   High                               3113 non-null   float64\n",
      " 2   Low                                3113 non-null   float64\n",
      " 3   Close                              3113 non-null   float64\n",
      " 4   Adj Close                          3113 non-null   float64\n",
      " 5   Volume                             3113 non-null   int64  \n",
      " 6   RSI                                3113 non-null   float64\n",
      " 7   Upper Bollinger band               3113 non-null   float64\n",
      " 8   Lower Bollinger band               3113 non-null   float64\n",
      " 9   %K (5 days stochastic oscillator)  3113 non-null   float64\n",
      " 10  %D Average(H,3)                    3113 non-null   float64\n",
      " 11  EMA 12                             3113 non-null   float64\n",
      " 12  EMA 26                             3113 non-null   float64\n",
      " 13  Volume Weighted Average Price      3113 non-null   float64\n",
      " 14  William % R                        3113 non-null   float64\n",
      " 15  Commodity Channel Index            3113 non-null   float64\n",
      " 16  Rate of Change (10 days)           3113 non-null   object \n",
      " 17  Aroon Up                           3113 non-null   int64  \n",
      " 18  Aroon Down                         3113 non-null   int64  \n",
      " 19  MACD                               3113 non-null   float64\n",
      " 20  BUY/SELL                           3113 non-null   object \n",
      "dtypes: float64(16), int64(3), object(2)\n",
      "memory usage: 535.0+ KB\n"
     ]
    }
   ],
   "source": [
    "dff.info()"
   ]
  },
  {
   "cell_type": "code",
   "execution_count": null,
   "id": "017e6e9a",
   "metadata": {
    "colab": {
     "base_uri": "https://localhost:8080/"
    },
    "id": "017e6e9a",
    "outputId": "02a41ee9-e2bb-4f3e-d72d-f116026c7206"
   },
   "outputs": [
    {
     "data": {
      "text/plain": [
       "Open                                 0\n",
       "High                                 0\n",
       "Low                                  0\n",
       "Close                                0\n",
       "Adj Close                            0\n",
       "Volume                               0\n",
       "RSI                                  0\n",
       "Upper Bollinger band                 0\n",
       "Lower Bollinger band                 0\n",
       "%K (5 days stochastic oscillator)    0\n",
       "%D Average(H,3)                      0\n",
       "EMA 12                               0\n",
       "EMA 26                               0\n",
       "Volume Weighted Average Price        0\n",
       "William % R                          0\n",
       "Commodity Channel Index              0\n",
       "Rate of Change (10 days)             0\n",
       "Aroon Up                             0\n",
       "Aroon Down                           0\n",
       "MACD                                 0\n",
       "BUY/SELL                             0\n",
       "dtype: int64"
      ]
     },
     "execution_count": 14,
     "metadata": {},
     "output_type": "execute_result"
    }
   ],
   "source": [
    "dff.isnull().sum()"
   ]
  },
  {
   "cell_type": "code",
   "execution_count": null,
   "id": "2d4f0cb7",
   "metadata": {
    "id": "2d4f0cb7",
    "scrolled": true
   },
   "outputs": [],
   "source": [
    "dff.describe()"
   ]
  },
  {
   "cell_type": "code",
   "execution_count": null,
   "id": "46ad200f",
   "metadata": {
    "colab": {
     "base_uri": "https://localhost:8080/",
     "height": 296
    },
    "id": "46ad200f",
    "outputId": "c0a6e80f-a838-4184-e20a-0520af55dab0"
   },
   "outputs": [
    {
     "data": {
      "text/plain": [
       "<matplotlib.axes._subplots.AxesSubplot at 0x7f0131525a10>"
      ]
     },
     "execution_count": 15,
     "metadata": {},
     "output_type": "execute_result"
    },
    {
     "data": {
      "image/png": "[encoded data removed]",
      "text/plain": [
       "<Figure size 864x288 with 1 Axes>"
      ]
     },
     "metadata": {
      "needs_background": "light"
     },
     "output_type": "display_data"
    }
   ],
   "source": [
    "dff['High'].plot(figsize=(12,4),ls='--',c='green')"
   ]
  },
  {
   "cell_type": "code",
   "execution_count": null,
   "id": "86d8ae41",
   "metadata": {
    "colab": {
     "base_uri": "https://localhost:8080/"
    },
    "id": "86d8ae41",
    "outputId": "d8bb78b3-2b2e-4074-c487-c0469701c6a8"
   },
   "outputs": [
    {
     "data": {
      "text/plain": [
       "Index(['2010/02/09', '2010/02/10', '2010/02/11', '2010/02/15', '2010/02/16',\n",
       "       '2010/02/17', '2010/02/18', '2010/02/19', '2010/02/22', '2010/02/23',\n",
       "       ...\n",
       "       '2022/08/26', '2022/08/29', '2022/08/30', '2022/09/01', '2022/09/02',\n",
       "       '2022/09/05', '2022/09/06', '2022/09/07', '2022/09/08', '2022/09/09'],\n",
       "      dtype='object', name='Date', length=3113)"
      ]
     },
     "execution_count": 17,
     "metadata": {},
     "output_type": "execute_result"
    }
   ],
   "source": [
    "dff.index"
   ]
  },
  {
   "cell_type": "code",
   "execution_count": null,
   "id": "89cc59ea",
   "metadata": {
    "id": "89cc59ea"
   },
   "outputs": [],
   "source": [
    "index=dff.loc['19/08/2022':'09/09/2022'].index\n",
    "share_open=dff.loc['19/08/2022':'09/09/2022']['Open']"
   ]
  },
  {
   "cell_type": "code",
   "execution_count": null,
   "id": "bcd9312b",
   "metadata": {
    "colab": {
     "base_uri": "https://localhost:8080/"
    },
    "id": "bcd9312b",
    "outputId": "fe549c26-5339-46ac-ca6d-10188767071a"
   },
   "outputs": [
    {
     "data": {
      "text/plain": [
       "Series([], Name: Open, dtype: float64)"
      ]
     },
     "execution_count": 18,
     "metadata": {},
     "output_type": "execute_result"
    }
   ],
   "source": [
    "share_open"
   ]
  },
  {
   "cell_type": "code",
   "execution_count": null,
   "id": "554fb910",
   "metadata": {
    "colab": {
     "base_uri": "https://localhost:8080/"
    },
    "id": "554fb910",
    "outputId": "fe6d7acd-bb7c-4086-884e-15670f7ab7e4"
   },
   "outputs": [
    {
     "data": {
      "text/plain": [
       "Index([], dtype='object', name='Date')"
      ]
     },
     "execution_count": 19,
     "metadata": {},
     "output_type": "execute_result"
    }
   ],
   "source": [
    "index"
   ]
  },
  {
   "cell_type": "code",
   "execution_count": null,
   "id": "9694a32f",
   "metadata": {
    "colab": {
     "base_uri": "https://localhost:8080/",
     "height": 292
    },
    "id": "9694a32f",
    "outputId": "514cda71-95ff-4518-ff91-c6c617d7f02e"
   },
   "outputs": [
    {
     "data": {
      "text/plain": [
       "[<matplotlib.lines.Line2D at 0x7f0130f80150>]"
      ]
     },
     "execution_count": 20,
     "metadata": {},
     "output_type": "execute_result"
    },
    {
     "data": {
      "image/png": "[encoded data removed]",
      "text/plain": [
       "<Figure size 432x288 with 1 Axes>"
      ]
     },
     "metadata": {
      "needs_background": "light"
     },
     "output_type": "display_data"
    }
   ],
   "source": [
    "figure,axis=plt.subplots()\n",
    "plt.tight_layout()\n",
    "figure.autofmt_xdate()\n",
    "axis.plot(index,share_open)"
   ]
  },
  {
   "cell_type": "code",
   "execution_count": null,
   "id": "9b1676f0",
   "metadata": {
    "colab": {
     "base_uri": "https://localhost:8080/",
     "height": 540
    },
    "id": "9b1676f0",
    "outputId": "4c2f120a-43a4-48db-8588-7e7aeb360e8f"
   },
   "outputs": [
    {
     "data": {
      "text/html": [
       "\n",
       "  <div id=\"df-333ef5fd-d803-4d0a-a0a5-18ca6f04b2ee\">\n",
       "    <div class=\"colab-df-container\">\n",
       "      <div>\n",
       "<style scoped>\n",
       "    .dataframe tbody tr th:only-of-type {\n",
       "        vertical-align: middle;\n",
       "    }\n",
       "\n",
       "    .dataframe tbody tr th {\n",
       "        vertical-align: top;\n",
       "    }\n",
       "\n",
       "    .dataframe thead th {\n",
       "        text-align: right;\n",
       "    }\n",
       "</style>\n",
       "<table border=\"1\" class=\"dataframe\">\n",
       "  <thead>\n",
       "    <tr style=\"text-align: right;\">\n",
       "      <th></th>\n",
       "      <th>Date</th>\n",
       "      <th>Open</th>\n",
       "      <th>High</th>\n",
       "      <th>Low</th>\n",
       "      <th>Close</th>\n",
       "      <th>Adj Close</th>\n",
       "      <th>Volume</th>\n",
       "      <th>RSI</th>\n",
       "      <th>Upper Bollinger band</th>\n",
       "      <th>Lower Bollinger band</th>\n",
       "      <th>...</th>\n",
       "      <th>EMA 12</th>\n",
       "      <th>EMA 26</th>\n",
       "      <th>Volume Weighted Average Price</th>\n",
       "      <th>William % R</th>\n",
       "      <th>Commodity Channel Index</th>\n",
       "      <th>Rate of Change (10 days)</th>\n",
       "      <th>Aroon Up</th>\n",
       "      <th>Aroon Down</th>\n",
       "      <th>MACD</th>\n",
       "      <th>BUY/SELL</th>\n",
       "    </tr>\n",
       "  </thead>\n",
       "  <tbody>\n",
       "    <tr>\n",
       "      <th>0</th>\n",
       "      <td>2010/02/09</td>\n",
       "      <td>492.209351</td>\n",
       "      <td>494.314392</td>\n",
       "      <td>486.736237</td>\n",
       "      <td>491.961700</td>\n",
       "      <td>445.888885</td>\n",
       "      <td>6595770</td>\n",
       "      <td>77.363565</td>\n",
       "      <td>538.556974</td>\n",
       "      <td>482.723033</td>\n",
       "      <td>...</td>\n",
       "      <td>507.070528</td>\n",
       "      <td>526.112973</td>\n",
       "      <td>525.687818</td>\n",
       "      <td>-82.107805</td>\n",
       "      <td>-133.346702</td>\n",
       "      <td>-0.04683073594</td>\n",
       "      <td>32</td>\n",
       "      <td>88</td>\n",
       "      <td>-19.042446</td>\n",
       "      <td>0</td>\n",
       "    </tr>\n",
       "    <tr>\n",
       "      <th>1</th>\n",
       "      <td>2010/02/10</td>\n",
       "      <td>495.255463</td>\n",
       "      <td>495.255463</td>\n",
       "      <td>486.389526</td>\n",
       "      <td>487.924957</td>\n",
       "      <td>442.230225</td>\n",
       "      <td>8427562</td>\n",
       "      <td>77.450994</td>\n",
       "      <td>534.379680</td>\n",
       "      <td>480.362298</td>\n",
       "      <td>...</td>\n",
       "      <td>504.125055</td>\n",
       "      <td>523.284232</td>\n",
       "      <td>524.857180</td>\n",
       "      <td>-89.479146</td>\n",
       "      <td>-126.800124</td>\n",
       "      <td>-0.04131185583</td>\n",
       "      <td>28</td>\n",
       "      <td>84</td>\n",
       "      <td>-19.159176</td>\n",
       "      <td>-1</td>\n",
       "    </tr>\n",
       "    <tr>\n",
       "      <th>2</th>\n",
       "      <td>2010/02/11</td>\n",
       "      <td>489.980469</td>\n",
       "      <td>505.112030</td>\n",
       "      <td>489.609009</td>\n",
       "      <td>502.808868</td>\n",
       "      <td>455.720215</td>\n",
       "      <td>10822218</td>\n",
       "      <td>73.800489</td>\n",
       "      <td>529.706166</td>\n",
       "      <td>482.283331</td>\n",
       "      <td>...</td>\n",
       "      <td>503.922565</td>\n",
       "      <td>521.767538</td>\n",
       "      <td>524.114793</td>\n",
       "      <td>-50.645372</td>\n",
       "      <td>-81.142246</td>\n",
       "      <td>-0.02121195237</td>\n",
       "      <td>24</td>\n",
       "      <td>80</td>\n",
       "      <td>-17.844973</td>\n",
       "      <td>1</td>\n",
       "    </tr>\n",
       "    <tr>\n",
       "      <th>3</th>\n",
       "      <td>2010/02/15</td>\n",
       "      <td>508.678253</td>\n",
       "      <td>508.678253</td>\n",
       "      <td>499.069336</td>\n",
       "      <td>500.258057</td>\n",
       "      <td>453.408264</td>\n",
       "      <td>6229609</td>\n",
       "      <td>62.190715</td>\n",
       "      <td>526.939071</td>\n",
       "      <td>481.947695</td>\n",
       "      <td>...</td>\n",
       "      <td>503.358794</td>\n",
       "      <td>520.174243</td>\n",
       "      <td>523.763755</td>\n",
       "      <td>-56.976014</td>\n",
       "      <td>-62.805145</td>\n",
       "      <td>-0.03460143653</td>\n",
       "      <td>20</td>\n",
       "      <td>76</td>\n",
       "      <td>-16.815449</td>\n",
       "      <td>-1</td>\n",
       "    </tr>\n",
       "    <tr>\n",
       "      <th>4</th>\n",
       "      <td>2010/02/16</td>\n",
       "      <td>500.307587</td>\n",
       "      <td>505.706421</td>\n",
       "      <td>497.781525</td>\n",
       "      <td>504.096680</td>\n",
       "      <td>456.887390</td>\n",
       "      <td>4646498</td>\n",
       "      <td>59.535849</td>\n",
       "      <td>524.309725</td>\n",
       "      <td>482.857629</td>\n",
       "      <td>...</td>\n",
       "      <td>503.472315</td>\n",
       "      <td>518.983313</td>\n",
       "      <td>523.507625</td>\n",
       "      <td>-47.449261</td>\n",
       "      <td>-61.770626</td>\n",
       "      <td>-0.02644921791</td>\n",
       "      <td>16</td>\n",
       "      <td>72</td>\n",
       "      <td>-15.510997</td>\n",
       "      <td>1</td>\n",
       "    </tr>\n",
       "    <tr>\n",
       "      <th>...</th>\n",
       "      <td>...</td>\n",
       "      <td>...</td>\n",
       "      <td>...</td>\n",
       "      <td>...</td>\n",
       "      <td>...</td>\n",
       "      <td>...</td>\n",
       "      <td>...</td>\n",
       "      <td>...</td>\n",
       "      <td>...</td>\n",
       "      <td>...</td>\n",
       "      <td>...</td>\n",
       "      <td>...</td>\n",
       "      <td>...</td>\n",
       "      <td>...</td>\n",
       "      <td>...</td>\n",
       "      <td>...</td>\n",
       "      <td>...</td>\n",
       "      <td>...</td>\n",
       "      <td>...</td>\n",
       "      <td>...</td>\n",
       "      <td>...</td>\n",
       "    </tr>\n",
       "    <tr>\n",
       "      <th>3108</th>\n",
       "      <td>2022/09/05</td>\n",
       "      <td>2531.000000</td>\n",
       "      <td>2581.500000</td>\n",
       "      <td>2531.000000</td>\n",
       "      <td>2569.800049</td>\n",
       "      <td>2569.800049</td>\n",
       "      <td>5227785</td>\n",
       "      <td>58.195854</td>\n",
       "      <td>2691.671064</td>\n",
       "      <td>2541.343236</td>\n",
       "      <td>...</td>\n",
       "      <td>2592.431907</td>\n",
       "      <td>2579.893536</td>\n",
       "      <td>1019.179252</td>\n",
       "      <td>-70.833259</td>\n",
       "      <td>-92.978210</td>\n",
       "      <td>-0.01685255365</td>\n",
       "      <td>48</td>\n",
       "      <td>0</td>\n",
       "      <td>12.538371</td>\n",
       "      <td>1</td>\n",
       "    </tr>\n",
       "    <tr>\n",
       "      <th>3109</th>\n",
       "      <td>2022/09/06</td>\n",
       "      <td>2573.000000</td>\n",
       "      <td>2606.000000</td>\n",
       "      <td>2572.000000</td>\n",
       "      <td>2596.850098</td>\n",
       "      <td>2596.850098</td>\n",
       "      <td>5030172</td>\n",
       "      <td>58.608005</td>\n",
       "      <td>2687.970925</td>\n",
       "      <td>2537.264810</td>\n",
       "      <td>...</td>\n",
       "      <td>2593.111629</td>\n",
       "      <td>2581.149578</td>\n",
       "      <td>1019.470203</td>\n",
       "      <td>-50.692916</td>\n",
       "      <td>-29.493616</td>\n",
       "      <td>-0.003740504732</td>\n",
       "      <td>44</td>\n",
       "      <td>0</td>\n",
       "      <td>11.962051</td>\n",
       "      <td>1</td>\n",
       "    </tr>\n",
       "    <tr>\n",
       "      <th>3110</th>\n",
       "      <td>2022/09/07</td>\n",
       "      <td>2575.000000</td>\n",
       "      <td>2594.899902</td>\n",
       "      <td>2570.000000</td>\n",
       "      <td>2581.750000</td>\n",
       "      <td>2581.750000</td>\n",
       "      <td>3455942</td>\n",
       "      <td>58.895007</td>\n",
       "      <td>2681.110820</td>\n",
       "      <td>2532.210643</td>\n",
       "      <td>...</td>\n",
       "      <td>2591.363686</td>\n",
       "      <td>2581.194053</td>\n",
       "      <td>1019.668841</td>\n",
       "      <td>-61.157290</td>\n",
       "      <td>-53.368680</td>\n",
       "      <td>-0.02457686557</td>\n",
       "      <td>40</td>\n",
       "      <td>0</td>\n",
       "      <td>10.169633</td>\n",
       "      <td>0</td>\n",
       "    </tr>\n",
       "    <tr>\n",
       "      <th>3111</th>\n",
       "      <td>2022/09/08</td>\n",
       "      <td>2588.250000</td>\n",
       "      <td>2598.000000</td>\n",
       "      <td>2571.000000</td>\n",
       "      <td>2585.399902</td>\n",
       "      <td>2585.399902</td>\n",
       "      <td>3256840</td>\n",
       "      <td>60.656396</td>\n",
       "      <td>2670.549281</td>\n",
       "      <td>2531.929304</td>\n",
       "      <td>...</td>\n",
       "      <td>2590.446181</td>\n",
       "      <td>2581.505598</td>\n",
       "      <td>1019.856298</td>\n",
       "      <td>-58.627907</td>\n",
       "      <td>-54.556808</td>\n",
       "      <td>-0.02058910806</td>\n",
       "      <td>36</td>\n",
       "      <td>80</td>\n",
       "      <td>8.940583</td>\n",
       "      <td>0</td>\n",
       "    </tr>\n",
       "    <tr>\n",
       "      <th>3112</th>\n",
       "      <td>2022/09/09</td>\n",
       "      <td>2610.000000</td>\n",
       "      <td>2610.000000</td>\n",
       "      <td>2564.000000</td>\n",
       "      <td>2571.750000</td>\n",
       "      <td>2571.750000</td>\n",
       "      <td>2981738</td>\n",
       "      <td>56.135250</td>\n",
       "      <td>2662.438820</td>\n",
       "      <td>2534.025466</td>\n",
       "      <td>...</td>\n",
       "      <td>2587.569845</td>\n",
       "      <td>2580.782961</td>\n",
       "      <td>1020.027566</td>\n",
       "      <td>-68.087295</td>\n",
       "      <td>-64.801299</td>\n",
       "      <td>-0.02290991732</td>\n",
       "      <td>32</td>\n",
       "      <td>76</td>\n",
       "      <td>6.786885</td>\n",
       "      <td>-1</td>\n",
       "    </tr>\n",
       "  </tbody>\n",
       "</table>\n",
       "<p>3113 rows × 22 columns</p>\n",
       "</div>\n",
       "      <button class=\"colab-df-convert\" onclick=\"convertToInteractive('df-333ef5fd-d803-4d0a-a0a5-18ca6f04b2ee')\"\n",
       "              title=\"Convert this dataframe to an interactive table.\"\n",
       "              style=\"display:none;\">\n",
       "        \n",
       "  <svg xmlns=\"http://www.w3.org/2000/svg\" height=\"24px\"viewBox=\"0 0 24 24\"\n",
       "       width=\"24px\">\n",
       "    <path d=\"M0 0h24v24H0V0z\" fill=\"none\"/>\n",
       "    <path d=\"M18.56 5.44l.94 2.06.94-2.06 2.06-.94-2.06-.94-.94-2.06-.94 2.06-2.06.94zm-11 1L8.5 8.5l.94-2.06 2.06-.94-2.06-.94L8.5 2.5l-.94 2.06-2.06.94zm10 10l.94 2.06.94-2.06 2.06-.94-2.06-.94-.94-2.06-.94 2.06-2.06.94z\"/><path d=\"M17.41 7.96l-1.37-1.37c-.4-.4-.92-.59-1.43-.59-.52 0-1.04.2-1.43.59L10.3 9.45l-7.72 7.72c-.78.78-.78 2.05 0 2.83L4 21.41c.39.39.9.59 1.41.59.51 0 1.02-.2 1.41-.59l7.78-7.78 2.81-2.81c.8-.78.8-2.07 0-2.86zM5.41 20L4 18.59l7.72-7.72 1.47 1.35L5.41 20z\"/>\n",
       "  </svg>\n",
       "      </button>\n",
       "      \n",
       "  <style>\n",
       "    .colab-df-container {\n",
       "      display:flex;\n",
       "      flex-wrap:wrap;\n",
       "      gap: 12px;\n",
       "    }\n",
       "\n",
       "    .colab-df-convert {\n",
       "      background-color: #E8F0FE;\n",
       "      border: none;\n",
       "      border-radius: 50%;\n",
       "      cursor: pointer;\n",
       "      display: none;\n",
       "      fill: #1967D2;\n",
       "      height: 32px;\n",
       "      padding: 0 0 0 0;\n",
       "      width: 32px;\n",
       "    }\n",
       "\n",
       "    .colab-df-convert:hover {\n",
       "      background-color: #E2EBFA;\n",
       "      box-shadow: 0px 1px 2px rgba(60, 64, 67, 0.3), 0px 1px 3px 1px rgba(60, 64, 67, 0.15);\n",
       "      fill: #174EA6;\n",
       "    }\n",
       "\n",
       "    [theme=dark] .colab-df-convert {\n",
       "      background-color: #3B4455;\n",
       "      fill: #D2E3FC;\n",
       "    }\n",
       "\n",
       "    [theme=dark] .colab-df-convert:hover {\n",
       "      background-color: #434B5C;\n",
       "      box-shadow: 0px 1px 3px 1px rgba(0, 0, 0, 0.15);\n",
       "      filter: drop-shadow(0px 1px 2px rgba(0, 0, 0, 0.3));\n",
       "      fill: #FFFFFF;\n",
       "    }\n",
       "  </style>\n",
       "\n",
       "      <script>\n",
       "        const buttonEl =\n",
       "          document.querySelector('#df-333ef5fd-d803-4d0a-a0a5-18ca6f04b2ee button.colab-df-convert');\n",
       "        buttonEl.style.display =\n",
       "          google.colab.kernel.accessAllowed ? 'block' : 'none';\n",
       "\n",
       "        async function convertToInteractive(key) {\n",
       "          const element = document.querySelector('#df-333ef5fd-d803-4d0a-a0a5-18ca6f04b2ee');\n",
       "          const dataTable =\n",
       "            await google.colab.kernel.invokeFunction('convertToInteractive',\n",
       "                                                     [key], {});\n",
       "          if (!dataTable) return;\n",
       "\n",
       "          const docLinkHtml = 'Like what you see? Visit the ' +\n",
       "            '<a target=\"_blank\" href=https://colab.research.google.com/notebooks/data_table.ipynb>data table notebook</a>'\n",
       "            + ' to learn more about interactive tables.';\n",
       "          element.innerHTML = '';\n",
       "          dataTable['output_type'] = 'display_data';\n",
       "          await google.colab.output.renderOutput(dataTable, element);\n",
       "          const docLink = document.createElement('div');\n",
       "          docLink.innerHTML = docLinkHtml;\n",
       "          element.appendChild(docLink);\n",
       "        }\n",
       "      </script>\n",
       "    </div>\n",
       "  </div>\n",
       "  "
      ],
      "text/plain": [
       "            Date         Open         High          Low        Close  \\\n",
       "0     2010/02/09   492.209351   494.314392   486.736237   491.961700   \n",
       "1     2010/02/10   495.255463   495.255463   486.389526   487.924957   \n",
       "2     2010/02/11   489.980469   505.112030   489.609009   502.808868   \n",
       "3     2010/02/15   508.678253   508.678253   499.069336   500.258057   \n",
       "4     2010/02/16   500.307587   505.706421   497.781525   504.096680   \n",
       "...          ...          ...          ...          ...          ...   \n",
       "3108  2022/09/05  2531.000000  2581.500000  2531.000000  2569.800049   \n",
       "3109  2022/09/06  2573.000000  2606.000000  2572.000000  2596.850098   \n",
       "3110  2022/09/07  2575.000000  2594.899902  2570.000000  2581.750000   \n",
       "3111  2022/09/08  2588.250000  2598.000000  2571.000000  2585.399902   \n",
       "3112  2022/09/09  2610.000000  2610.000000  2564.000000  2571.750000   \n",
       "\n",
       "        Adj Close    Volume        RSI  Upper Bollinger band  \\\n",
       "0      445.888885   6595770  77.363565            538.556974   \n",
       "1      442.230225   8427562  77.450994            534.379680   \n",
       "2      455.720215  10822218  73.800489            529.706166   \n",
       "3      453.408264   6229609  62.190715            526.939071   \n",
       "4      456.887390   4646498  59.535849            524.309725   \n",
       "...           ...       ...        ...                   ...   \n",
       "3108  2569.800049   5227785  58.195854           2691.671064   \n",
       "3109  2596.850098   5030172  58.608005           2687.970925   \n",
       "3110  2581.750000   3455942  58.895007           2681.110820   \n",
       "3111  2585.399902   3256840  60.656396           2670.549281   \n",
       "3112  2571.750000   2981738  56.135250           2662.438820   \n",
       "\n",
       "      Lower Bollinger band  ...       EMA 12       EMA 26  \\\n",
       "0               482.723033  ...   507.070528   526.112973   \n",
       "1               480.362298  ...   504.125055   523.284232   \n",
       "2               482.283331  ...   503.922565   521.767538   \n",
       "3               481.947695  ...   503.358794   520.174243   \n",
       "4               482.857629  ...   503.472315   518.983313   \n",
       "...                    ...  ...          ...          ...   \n",
       "3108           2541.343236  ...  2592.431907  2579.893536   \n",
       "3109           2537.264810  ...  2593.111629  2581.149578   \n",
       "3110           2532.210643  ...  2591.363686  2581.194053   \n",
       "3111           2531.929304  ...  2590.446181  2581.505598   \n",
       "3112           2534.025466  ...  2587.569845  2580.782961   \n",
       "\n",
       "      Volume Weighted Average Price  William % R  Commodity Channel Index  \\\n",
       "0                        525.687818   -82.107805              -133.346702   \n",
       "1                        524.857180   -89.479146              -126.800124   \n",
       "2                        524.114793   -50.645372               -81.142246   \n",
       "3                        523.763755   -56.976014               -62.805145   \n",
       "4                        523.507625   -47.449261               -61.770626   \n",
       "...                             ...          ...                      ...   \n",
       "3108                    1019.179252   -70.833259               -92.978210   \n",
       "3109                    1019.470203   -50.692916               -29.493616   \n",
       "3110                    1019.668841   -61.157290               -53.368680   \n",
       "3111                    1019.856298   -58.627907               -54.556808   \n",
       "3112                    1020.027566   -68.087295               -64.801299   \n",
       "\n",
       "      Rate of Change (10 days)  Aroon Up Aroon Down       MACD  BUY/SELL  \n",
       "0               -0.04683073594        32         88 -19.042446         0  \n",
       "1               -0.04131185583        28         84 -19.159176        -1  \n",
       "2               -0.02121195237        24         80 -17.844973         1  \n",
       "3               -0.03460143653        20         76 -16.815449        -1  \n",
       "4               -0.02644921791        16         72 -15.510997         1  \n",
       "...                        ...       ...        ...        ...       ...  \n",
       "3108            -0.01685255365        48          0  12.538371         1  \n",
       "3109           -0.003740504732        44          0  11.962051         1  \n",
       "3110            -0.02457686557        40          0  10.169633         0  \n",
       "3111            -0.02058910806        36         80   8.940583         0  \n",
       "3112            -0.02290991732        32         76   6.786885        -1  \n",
       "\n",
       "[3113 rows x 22 columns]"
      ]
     },
     "execution_count": 21,
     "metadata": {},
     "output_type": "execute_result"
    }
   ],
   "source": [
    "df"
   ]
  },
  {
   "cell_type": "code",
   "execution_count": null,
   "id": "df3c084a",
   "metadata": {
    "id": "df3c084a"
   },
   "outputs": [],
   "source": [
    "df['Date']=pd.to_datetime(df['Date'])"
   ]
  },
  {
   "cell_type": "code",
   "execution_count": null,
   "id": "a2a9bc7f",
   "metadata": {
    "id": "a2a9bc7f"
   },
   "outputs": [],
   "source": [
    "df.info()"
   ]
  },
  {
   "cell_type": "code",
   "execution_count": null,
   "id": "629dfee0",
   "metadata": {
    "id": "629dfee0"
   },
   "outputs": [],
   "source": [
    "df=df.set_index('Date',drop=True)"
   ]
  },
  {
   "cell_type": "code",
   "execution_count": null,
   "id": "4600b616",
   "metadata": {
    "id": "4600b616"
   },
   "outputs": [],
   "source": [
    "df"
   ]
  },
  {
   "cell_type": "code",
   "execution_count": null,
   "id": "90c35d49",
   "metadata": {
    "id": "90c35d49"
   },
   "outputs": [],
   "source": [
    "datetime(2022,9,5)"
   ]
  },
  {
   "cell_type": "code",
   "execution_count": null,
   "id": "73a446de",
   "metadata": {
    "id": "73a446de"
   },
   "outputs": [],
   "source": [
    "datetime.now()"
   ]
  },
  {
   "cell_type": "code",
   "execution_count": null,
   "id": "7ce56225",
   "metadata": {
    "id": "7ce56225"
   },
   "outputs": [],
   "source": [
    "##year and frequency\n",
    "df.resample(rule='A').min()"
   ]
  },
  {
   "cell_type": "code",
   "execution_count": null,
   "id": "58ce5f1a",
   "metadata": {
    "id": "58ce5f1a"
   },
   "outputs": [],
   "source": [
    "df.resample(rule='A').max()"
   ]
  },
  {
   "cell_type": "code",
   "execution_count": null,
   "id": "30b831a3",
   "metadata": {
    "id": "30b831a3"
   },
   "outputs": [],
   "source": [
    "df.resample(rule='A').max()['Open'].plot()"
   ]
  },
  {
   "cell_type": "code",
   "execution_count": null,
   "id": "2c20679c",
   "metadata": {
    "id": "2c20679c"
   },
   "outputs": [],
   "source": [
    "##Quaterly start frequency\n",
    "df.resample(rule='QS').max()"
   ]
  },
  {
   "cell_type": "code",
   "execution_count": null,
   "id": "4231eff5",
   "metadata": {
    "id": "4231eff5"
   },
   "outputs": [],
   "source": [
    "df.resample(rule='QS').max()['High'].plot()"
   ]
  },
  {
   "cell_type": "code",
   "execution_count": null,
   "id": "acf7879f",
   "metadata": {
    "id": "acf7879f"
   },
   "outputs": [],
   "source": [
    "##business and frequency (BUSINESS YEAR END)\n",
    "df.resample(rule='BA').max()"
   ]
  },
  {
   "cell_type": "code",
   "execution_count": null,
   "id": "d3d28348",
   "metadata": {
    "id": "d3d28348"
   },
   "outputs": [],
   "source": [
    "##business quarters\n",
    "df.resample(rule='BQS').max()"
   ]
  },
  {
   "cell_type": "code",
   "execution_count": null,
   "id": "45ce4b81",
   "metadata": {
    "id": "45ce4b81"
   },
   "outputs": [],
   "source": [
    "df['Open'].resample(rule='BA').mean().plot(kind='bar')"
   ]
  },
  {
   "cell_type": "code",
   "execution_count": null,
   "id": "b4a01655",
   "metadata": {
    "id": "b4a01655"
   },
   "outputs": [],
   "source": [
    "df['Open'].resample(rule='M').mean() ##monthly"
   ]
  },
  {
   "cell_type": "code",
   "execution_count": null,
   "id": "fa37d2b8",
   "metadata": {
    "id": "fa37d2b8"
   },
   "outputs": [],
   "source": [
    "plt.tight_layout()\n",
    "df['Open'].resample(rule='M').max().plot(kind='bar',figsize=(35,6))"
   ]
  },
  {
   "cell_type": "code",
   "execution_count": null,
   "id": "dfb2f65f",
   "metadata": {
    "id": "dfb2f65f"
   },
   "outputs": [],
   "source": [
    "df['High'].rolling(10).mean().head(20)"
   ]
  },
  {
   "cell_type": "code",
   "execution_count": null,
   "id": "b7d28fbf",
   "metadata": {
    "id": "b7d28fbf"
   },
   "outputs": [],
   "source": [
    "df['Open:10days rolling']=df['Open'].rolling(30).mean()\n",
    "df['Open:30days rolling']=df['Open'].rolling(40).mean()\n",
    "df['Open:50days rolling']=df['Open'].rolling(50).mean()"
   ]
  },
  {
   "cell_type": "code",
   "execution_count": null,
   "id": "000d6580",
   "metadata": {
    "id": "000d6580"
   },
   "outputs": [],
   "source": [
    "df[['Open','Open:10days rolling']].plot(xlim=['2017-01-20','2022-01-22' ],figsize=(15,6))"
   ]
  },
  {
   "cell_type": "code",
   "execution_count": null,
   "id": "e22cf46a",
   "metadata": {
    "id": "e22cf46a"
   },
   "outputs": [],
   "source": [
    "df[['Open','Open:10days rolling','Open:30days rolling','Open:50days rolling']].plot(xlim=['2017-01-20','2022-01-22' ],figsize=(15,6))"
   ]
  },
  {
   "cell_type": "code",
   "execution_count": null,
   "id": "875a5d87",
   "metadata": {
    "id": "875a5d87"
   },
   "outputs": [],
   "source": [
    "##expanding  CMA cumulative moving average of the open stock wrt different years\n",
    "df['Open'].expanding().mean().plot(figsize=(10,5))"
   ]
  },
  {
   "cell_type": "code",
   "execution_count": null,
   "id": "01b42c3e",
   "metadata": {
    "id": "01b42c3e"
   },
   "outputs": [],
   "source": [
    "##EWMA- Exponential Weighted Moving average, SMOOTHING FACTOR - 0.1\n",
    "df['EMA_5days']=df['Open'].ewm(span=5).mean()"
   ]
  },
  {
   "cell_type": "code",
   "execution_count": null,
   "id": "fad868b5",
   "metadata": {
    "id": "fad868b5"
   },
   "outputs": [],
   "source": [
    "df[['Open','EMA_5days']].plot(figsize=(15,5))"
   ]
  },
  {
   "cell_type": "raw",
   "id": "7bc97e67",
   "metadata": {
    "id": "7c456eea"
   },
   "source": [
    "# Modelling"
   ]
  },
  {
   "cell_type": "markdown",
   "id": "f9dcc5c4",
   "metadata": {
    "id": "92dd98d3"
   },
   "source": [
    "# Random Forest"
   ]
  },
  {
   "cell_type": "code",
   "execution_count": 112,
   "id": "4685e802",
   "metadata": {
    "id": "4685e802"
   },
   "outputs": [],
   "source": [
    "data=pd.read_csv('sheet.csv')"
   ]
  },
  {
   "cell_type": "code",
   "execution_count": 95,
   "id": "6570d51d",
   "metadata": {
    "id": "6570d51d"
   },
   "outputs": [],
   "source": [
    "#Setting features and target variables\n",
    "X = data.drop(\"BUY/SELL\", axis=1)\n",
    "X = X.drop(\"Date\",axis=1)\n",
    "y = data[\"BUY/SELL\"]"
   ]
  },
  {
   "cell_type": "code",
   "execution_count": 96,
   "id": "897ee1d8",
   "metadata": {
    "id": "897ee1d8"
   },
   "outputs": [],
   "source": [
    "data.dropna(inplace=True)\n",
    "\n",
    "train_size = int(0.85 * y.shape[0])\n",
    "X_train = X[:train_size]\n",
    "y_train = y[:train_size]\n",
    "X_test = X[train_size:]\n",
    "y_test = y[train_size:]"
   ]
  },
  {
   "cell_type": "code",
   "execution_count": 6,
   "id": "e517f487",
   "metadata": {
    "id": "e517f487"
   },
   "outputs": [],
   "source": [
    "# random forest model creation\n",
    "rfc = RandomForestClassifier()\n",
    "rfc.fit(X_train,y_train)\n",
    "# predictions\n",
    "rfc_predict = rfc.predict(X_test)"
   ]
  },
  {
   "cell_type": "code",
   "execution_count": 7,
   "id": "906336d0",
   "metadata": {
    "id": "906336d0",
    "scrolled": true
   },
   "outputs": [
    {
     "data": {
      "text/plain": [
       "array([-1, -1, -1,  1,  1, -1, -1,  1,  1,  1,  1,  1, -1, -1, -1, -1, -1,\n",
       "       -1, -1, -1,  1,  1,  0, -1, -1, -1, -1,  1, -1, -1,  1,  1,  0, -1,\n",
       "       -1, -1, -1,  0, -1,  0,  0,  0,  1,  1,  0,  0, -1, -1,  1, -1, -1,\n",
       "       -1,  1, -1,  1,  0,  1, -1,  1,  1,  1,  1, -1, -1, -1, -1, -1,  1,\n",
       "        1,  1,  1,  0,  1,  0,  0,  1,  1, -1,  1,  1, -1,  0, -1, -1,  0,\n",
       "        1, -1, -1, -1,  1, -1, -1, -1, -1, -1, -1, -1, -1, -1, -1,  1,  0,\n",
       "        1, -1, -1,  0,  0,  0,  0,  0,  0,  0,  0,  0, -1,  0,  1,  0, -1,\n",
       "       -1,  0,  0,  1,  1,  1,  1, -1, -1, -1, -1,  0,  0,  0,  0, -1,  0,\n",
       "        0,  0,  0,  0,  1, -1, -1,  0, -1,  1,  1,  1,  1, -1, -1,  1, -1,\n",
       "       -1,  0,  0,  1,  0, -1, -1, -1,  0,  0,  0, -1, -1, -1, -1,  0,  0,\n",
       "        1,  1, -1,  0, -1, -1,  0,  1,  0,  0,  0, -1, -1,  1, -1, -1, -1,\n",
       "       -1,  1, -1,  0,  1,  0,  0, -1, -1,  0,  0,  1,  1,  0, -1, -1, -1,\n",
       "       -1,  0,  0,  1,  0,  1, -1, -1,  0,  1,  0,  0,  0, -1, -1, -1, -1,\n",
       "        1, -1,  0,  0,  0,  1,  0,  1,  0, -1, -1, -1,  0,  0, -1, -1,  1,\n",
       "       -1, -1,  0,  0,  0,  0, -1, -1, -1, -1,  0,  0,  0, -1, -1, -1, -1,\n",
       "        0, -1,  0,  0,  0,  1, -1, -1, -1,  0, -1,  1, -1,  1, -1, -1, -1,\n",
       "        0,  0, -1, -1, -1,  0,  0,  0, -1, -1, -1,  0, -1,  0,  1,  1,  0,\n",
       "        0,  0,  0,  0, -1, -1,  0,  1,  1, -1,  0,  0,  0,  1,  1,  0,  0,\n",
       "       -1, -1, -1,  0, -1, -1, -1, -1,  0,  0, -1,  0, -1, -1,  1,  0,  0,\n",
       "        0, -1,  1,  0,  1, -1, -1, -1, -1, -1, -1,  1,  1,  0, -1, -1,  0,\n",
       "        1,  1,  1,  1, -1,  0,  1,  0,  1,  1,  1,  1,  1,  0,  1, -1,  0,\n",
       "        0, -1, -1, -1,  1,  0, -1, -1,  0,  1,  1,  1,  0, -1,  0,  0,  0,\n",
       "       -1, -1, -1, -1, -1, -1, -1, -1, -1,  1,  0,  0,  1, -1,  1,  0,  0,\n",
       "        0, -1, -1,  1, -1,  0,  1,  0,  0,  0,  0,  1, -1, -1, -1, -1, -1,\n",
       "        0,  0,  0, -1, -1,  0,  0,  0,  1,  1, -1, -1,  0, -1, -1, -1,  1,\n",
       "        0, -1,  0,  0,  0,  0,  0, -1,  0, -1, -1, -1,  0,  1,  1,  0,  1,\n",
       "       -1, -1,  0,  0,  0,  1,  1,  0,  0, -1, -1,  0,  0,  0,  0, -1, -1,\n",
       "       -1, -1,  0,  1,  1,  0, -1], dtype=int64)"
      ]
     },
     "execution_count": 7,
     "metadata": {},
     "output_type": "execute_result"
    }
   ],
   "source": [
    "rfc_predict"
   ]
  },
  {
   "cell_type": "code",
   "execution_count": 8,
   "id": "a4e61e2e",
   "metadata": {
    "id": "a4e61e2e"
   },
   "outputs": [
    {
     "name": "stdout",
     "output_type": "stream",
     "text": [
      "=== Confusion Matrix ===\n",
      "[[131  40   3]\n",
      " [ 54  58  25]\n",
      " [ 15  61  79]]\n",
      "\n",
      "\n",
      "=== Classification Report ===\n",
      "              precision    recall  f1-score   support\n",
      "\n",
      "          -1       0.66      0.75      0.70       174\n",
      "           0       0.36      0.42      0.39       137\n",
      "           1       0.74      0.51      0.60       155\n",
      "\n",
      "    accuracy                           0.58       466\n",
      "   macro avg       0.59      0.56      0.57       466\n",
      "weighted avg       0.60      0.58      0.58       466\n",
      "\n",
      "\n",
      "\n"
     ]
    }
   ],
   "source": [
    "#Result Summary\n",
    "\n",
    "print(\"=== Confusion Matrix ===\")\n",
    "print(confusion_matrix(y_test, rfc_predict))\n",
    "print('\\n')\n",
    "print(\"=== Classification Report ===\")\n",
    "print(classification_report(y_test, rfc_predict))\n",
    "print('\\n')"
   ]
  },
  {
   "cell_type": "code",
   "execution_count": 9,
   "id": "0f8b6eed",
   "metadata": {
    "id": "0f8b6eed"
   },
   "outputs": [
    {
     "name": "stdout",
     "output_type": "stream",
     "text": [
      "Final Accuracy: 0.575\n"
     ]
    }
   ],
   "source": [
    "rfc_predict\n",
    "print('Final Accuracy: %.3f' % accuracy_score(y_test,rfc_predict))"
   ]
  },
  {
   "cell_type": "code",
   "execution_count": null,
   "id": "b09f2932",
   "metadata": {
    "id": "b09f2932"
   },
   "outputs": [],
   "source": [
    "# Model for prediction from Financial Indicators (Not including 'Open','High','Low','Close','Adj Close','Volume')"
   ]
  },
  {
   "cell_type": "code",
   "execution_count": 10,
   "id": "6a1ae676",
   "metadata": {
    "id": "6a1ae676"
   },
   "outputs": [],
   "source": [
    "X = data.drop([\"Date\",\"BUY/SELL\",\"Open\",\"High\",\"Low\",\"Close\",\"Adj Close\",\"Close\",\"Volume\"], axis=1)\n",
    "y = data[\"BUY/SELL\"]"
   ]
  },
  {
   "cell_type": "code",
   "execution_count": null,
   "id": "fc68ef5e",
   "metadata": {
    "id": "fc68ef5e"
   },
   "outputs": [],
   "source": [
    "X_train, X_test, y_train, y_test = train_test_split(X, y, test_size=0.33, random_state=66)"
   ]
  },
  {
   "cell_type": "code",
   "execution_count": 12,
   "id": "a7edfe4d",
   "metadata": {
    "id": "a7edfe4d"
   },
   "outputs": [],
   "source": [
    "# random forest model creation\n",
    "rfc = RandomForestClassifier()\n",
    "rfc.fit(X_train,y_train)\n",
    "# predictions\n",
    "rfc_predict = rfc.predict(X_test)\n"
   ]
  },
  {
   "cell_type": "code",
   "execution_count": 13,
   "id": "e05ce231",
   "metadata": {
    "id": "e05ce231"
   },
   "outputs": [
    {
     "name": "stdout",
     "output_type": "stream",
     "text": [
      "Final Accuracy: 0.599\n"
     ]
    }
   ],
   "source": [
    "rfc_predict\n",
    "print('Final Accuracy: %.3f' % accuracy_score(y_test,rfc_predict))"
   ]
  },
  {
   "cell_type": "code",
   "execution_count": 14,
   "id": "eb15d4c4",
   "metadata": {
    "id": "eb15d4c4"
   },
   "outputs": [
    {
     "name": "stdout",
     "output_type": "stream",
     "text": [
      "=== Confusion Matrix ===\n",
      "[[140  30   4]\n",
      " [ 54  49  34]\n",
      " [ 15  50  90]]\n",
      "\n",
      "\n",
      "=== Classification Report ===\n",
      "              precision    recall  f1-score   support\n",
      "\n",
      "          -1       0.67      0.80      0.73       174\n",
      "           0       0.38      0.36      0.37       137\n",
      "           1       0.70      0.58      0.64       155\n",
      "\n",
      "    accuracy                           0.60       466\n",
      "   macro avg       0.58      0.58      0.58       466\n",
      "weighted avg       0.60      0.60      0.59       466\n",
      "\n",
      "\n",
      "\n"
     ]
    }
   ],
   "source": [
    "print(\"=== Confusion Matrix ===\")\n",
    "print(confusion_matrix(y_test, rfc_predict))\n",
    "print('\\n')\n",
    "print(\"=== Classification Report ===\")\n",
    "print(classification_report(y_test, rfc_predict))\n",
    "print('\\n')"
   ]
  },
  {
   "cell_type": "code",
   "execution_count": null,
   "id": "d40eead7",
   "metadata": {
    "id": "d40eead7"
   },
   "outputs": [],
   "source": [
    "#Tuning Hyper Parameters"
   ]
  },
  {
   "cell_type": "code",
   "execution_count": 15,
   "id": "445f7bea",
   "metadata": {
    "id": "445f7bea"
   },
   "outputs": [
    {
     "name": "stdout",
     "output_type": "stream",
     "text": [
      "Fitting 3 folds for each of 100 candidates, totalling 300 fits\n",
      "{'n_estimators': 200, 'max_features': 'sqrt', 'max_depth': 380}\n"
     ]
    }
   ],
   "source": [
    "\n",
    "# number of trees in random forest\n",
    "n_estimators = [int(x) for x in np.linspace(start = 200, stop = 2000, num = 10)]\n",
    "# number of features at every split\n",
    "max_features = ['auto', 'sqrt']\n",
    "\n",
    "# max depth\n",
    "max_depth = [int(x) for x in np.linspace(100, 500, num = 11)]\n",
    "max_depth.append(None)\n",
    "# create random grid\n",
    "random_grid = {\n",
    " 'n_estimators': n_estimators,\n",
    " 'max_features': max_features,\n",
    " 'max_depth': max_depth\n",
    " }\n",
    "# Random search of parameters\n",
    "rfc_random = RandomizedSearchCV(estimator = rfc, param_distributions = random_grid, n_iter = 100, cv = 3, verbose=2, random_state=42, n_jobs = -1)\n",
    "# Fit the model\n",
    "rfc_random.fit(X_train, y_train)\n",
    "# print results\n",
    "print(rfc_random.best_params_)"
   ]
  },
  {
   "cell_type": "code",
   "execution_count": 16,
   "id": "d4340c7e",
   "metadata": {
    "id": "d4340c7e",
    "scrolled": true
   },
   "outputs": [
    {
     "name": "stdout",
     "output_type": "stream",
     "text": [
      "=== Confusion Matrix ===\n",
      "[[139  30   5]\n",
      " [ 56  51  30]\n",
      " [ 17  35 103]]\n",
      "\n",
      "\n",
      "=== Classification Report ===\n",
      "              precision    recall  f1-score   support\n",
      "\n",
      "          -1       0.66      0.80      0.72       174\n",
      "           0       0.44      0.37      0.40       137\n",
      "           1       0.75      0.66      0.70       155\n",
      "\n",
      "    accuracy                           0.63       466\n",
      "   macro avg       0.61      0.61      0.61       466\n",
      "weighted avg       0.62      0.63      0.62       466\n",
      "\n",
      "\n",
      "\n"
     ]
    },
    {
     "data": {
      "text/plain": [
       "array([-1, -1, -1,  1,  1, -1, -1,  1,  1,  1,  1,  1, -1, -1, -1, -1, -1,\n",
       "       -1, -1, -1,  1,  1,  0, -1, -1, -1, -1,  0, -1, -1,  0,  1,  0, -1,\n",
       "       -1, -1, -1,  0,  1,  0,  0,  0,  0,  0,  0,  0, -1, -1,  0,  0, -1,\n",
       "       -1,  1, -1,  1,  0,  0, -1,  1,  1,  1,  1, -1, -1, -1, -1, -1,  1,\n",
       "        1,  0,  0, -1,  1, -1,  0,  1,  1, -1,  1,  1, -1,  0, -1, -1, -1,\n",
       "        1, -1,  0, -1,  1, -1,  0,  0, -1, -1, -1, -1, -1, -1, -1,  1,  0,\n",
       "        1, -1, -1, -1,  1, -1,  0, -1,  0,  0,  0, -1, -1, -1,  1, -1, -1,\n",
       "       -1,  1,  1,  1,  1,  1,  1, -1, -1, -1, -1,  0,  1,  0,  0, -1,  0,\n",
       "        1,  0,  0, -1,  1, -1, -1,  0,  1,  1,  1,  1,  1, -1, -1,  0,  0,\n",
       "       -1,  0,  1,  1,  0, -1,  0,  0, -1, -1,  0, -1, -1, -1, -1,  0,  0,\n",
       "        1,  1, -1, -1, -1, -1,  0,  1,  0,  0,  1, -1, -1,  1, -1, -1, -1,\n",
       "       -1,  1, -1,  1,  1,  1,  0, -1, -1, -1,  1,  1,  1,  0, -1, -1, -1,\n",
       "        0,  1,  0,  1,  0,  1, -1,  0,  0,  1,  0,  0,  0, -1, -1, -1, -1,\n",
       "        1,  0,  0,  0,  1,  1,  0,  1,  1, -1, -1,  0,  0,  1, -1, -1,  1,\n",
       "       -1, -1,  0,  1, -1,  0, -1, -1, -1, -1,  1,  0, -1, -1, -1, -1, -1,\n",
       "        0,  0,  1,  1,  1,  1,  0, -1, -1, -1, -1,  1, -1,  1, -1, -1, -1,\n",
       "        0,  1, -1, -1, -1,  1,  1,  1, -1, -1, -1,  0, -1, -1,  1,  1,  0,\n",
       "        0,  0,  0,  0, -1, -1,  1,  1,  1, -1,  0,  0,  0,  1,  1,  0,  1,\n",
       "       -1,  0, -1, -1, -1, -1, -1, -1,  1,  1, -1, -1, -1, -1,  1,  1,  0,\n",
       "        0, -1,  1,  0,  1, -1, -1, -1, -1, -1, -1,  1,  1,  0, -1, -1, -1,\n",
       "        1,  1,  1,  1, -1,  1,  1,  0,  1,  1,  1,  1,  1,  1,  1, -1,  0,\n",
       "        0, -1,  0, -1,  1,  0, -1, -1, -1,  1,  1,  1,  0, -1,  0,  0,  1,\n",
       "       -1, -1, -1, -1, -1, -1, -1, -1, -1,  1, -1,  1,  0, -1,  1,  0,  1,\n",
       "        0, -1, -1,  1,  0,  0,  1,  0,  0,  0, -1,  1, -1, -1, -1, -1, -1,\n",
       "        0, -1, -1, -1, -1, -1, -1,  1,  1,  0, -1, -1, -1, -1, -1, -1,  1,\n",
       "        1, -1,  0,  0,  0,  0,  0, -1,  0, -1, -1, -1,  1,  1,  1,  0,  1,\n",
       "       -1, -1,  0,  1,  1,  1,  1,  1,  0, -1, -1,  1, -1,  0,  0, -1, -1,\n",
       "       -1, -1,  0,  1,  1,  0, -1], dtype=int64)"
      ]
     },
     "execution_count": 16,
     "metadata": {},
     "output_type": "execute_result"
    }
   ],
   "source": [
    "rfc = RandomForestClassifier(n_estimators=600, max_depth=300, max_features='sqrt')\n",
    "rfc.fit(X_train,y_train)\n",
    "rfc_predict = rfc.predict(X_test)\n",
    "print(\"=== Confusion Matrix ===\")\n",
    "print(confusion_matrix(y_test, rfc_predict))\n",
    "print('\\n')\n",
    "print(\"=== Classification Report ===\")\n",
    "print(classification_report(y_test, rfc_predict))\n",
    "print('\\n')\n",
    "rfc_predict\n"
   ]
  },
  {
   "cell_type": "code",
   "execution_count": 17,
   "id": "a4763a65",
   "metadata": {
    "id": "a4763a65"
   },
   "outputs": [
    {
     "name": "stdout",
     "output_type": "stream",
     "text": [
      "Final Accuracy: 0.629\n"
     ]
    }
   ],
   "source": [
    "print('Final Accuracy: %.3f' % accuracy_score(y_test,rfc_predict))"
   ]
  },
  {
   "cell_type": "code",
   "execution_count": null,
   "id": "4d696b51",
   "metadata": {
    "id": "4d696b51"
   },
   "outputs": [],
   "source": [
    "# Feature Importance"
   ]
  },
  {
   "cell_type": "code",
   "execution_count": 18,
   "id": "6f234fdb",
   "metadata": {
    "id": "6f234fdb"
   },
   "outputs": [
    {
     "data": {
      "text/plain": [
       "array([0.06084188, 0.0450641 , 0.04541266, 0.20891144, 0.10355189,\n",
       "       0.04327895, 0.04375669, 0.04982767, 0.1235045 , 0.06376609,\n",
       "       0.06651124, 0.04571163, 0.04319326, 0.056668  ])"
      ]
     },
     "execution_count": 18,
     "metadata": {},
     "output_type": "execute_result"
    }
   ],
   "source": [
    "rfc.feature_importances_"
   ]
  },
  {
   "cell_type": "code",
   "execution_count": 19,
   "id": "777d278c",
   "metadata": {
    "collapsed": true,
    "id": "777d278c"
   },
   "outputs": [
    {
     "data": {
      "text/plain": [
       "<BarContainer object of 14 artists>"
      ]
     },
     "execution_count": 19,
     "metadata": {},
     "output_type": "execute_result"
    },
    {
     "data": {
      "image/png": "[encoded data removed]",
      "text/plain": [
       "<Figure size 640x480 with 1 Axes>"
      ]
     },
     "metadata": {},
     "output_type": "display_data"
    }
   ],
   "source": [
    "plt.barh(X.columns, rfc.feature_importances_)"
   ]
  },
  {
   "cell_type": "code",
   "execution_count": null,
   "id": "4f12122c",
   "metadata": {
    "id": "4f12122c"
   },
   "outputs": [],
   "source": [
    "# Sorting the graph"
   ]
  },
  {
   "cell_type": "code",
   "execution_count": 20,
   "id": "06efc382",
   "metadata": {
    "id": "06efc382"
   },
   "outputs": [
    {
     "data": {
      "text/plain": [
       "Text(0.5, 0, 'Random Forest Feature Importance')"
      ]
     },
     "execution_count": 20,
     "metadata": {},
     "output_type": "execute_result"
    },
    {
     "data": {
      "image/png": "[encoded data removed]",
      "text/plain": [
       "<Figure size 640x480 with 1 Axes>"
      ]
     },
     "metadata": {},
     "output_type": "display_data"
    }
   ],
   "source": [
    "sorted_idx = rfc.feature_importances_.argsort()\n",
    "plt.barh(X.columns[sorted_idx], rfc.feature_importances_[sorted_idx])\n",
    "plt.xlabel(\"Random Forest Feature Importance\")"
   ]
  },
  {
   "cell_type": "markdown",
   "id": "33eee361",
   "metadata": {
    "id": "33eee361"
   },
   "source": [
    "# Naive Bayes Model"
   ]
  },
  {
   "cell_type": "code",
   "execution_count": 21,
   "id": "d9944f59",
   "metadata": {
    "id": "d9944f59"
   },
   "outputs": [
    {
     "data": {
      "text/html": [
       "<style>#sk-container-id-1 {color: black;background-color: white;}#sk-container-id-1 pre{padding: 0;}#sk-container-id-1 div.sk-toggleable {background-color: white;}#sk-container-id-1 label.sk-toggleable__label {cursor: pointer;display: block;width: 100%;margin-bottom: 0;padding: 0.3em;box-sizing: border-box;text-align: center;}#sk-container-id-1 label.sk-toggleable__label-arrow:before {content: \"▸\";float: left;margin-right: 0.25em;color: #696969;}#sk-container-id-1 label.sk-toggleable__label-arrow:hover:before {color: black;}#sk-container-id-1 div.sk-estimator:hover label.sk-toggleable__label-arrow:before {color: black;}#sk-container-id-1 div.sk-toggleable__content {max-height: 0;max-width: 0;overflow: hidden;text-align: left;background-color: #f0f8ff;}#sk-container-id-1 div.sk-toggleable__content pre {margin: 0.2em;color: black;border-radius: 0.25em;background-color: #f0f8ff;}#sk-container-id-1 input.sk-toggleable__control:checked~div.sk-toggleable__content {max-height: 200px;max-width: 100%;overflow: auto;}#sk-container-id-1 input.sk-toggleable__control:checked~label.sk-toggleable__label-arrow:before {content: \"▾\";}#sk-container-id-1 div.sk-estimator input.sk-toggleable__control:checked~label.sk-toggleable__label {background-color: #d4ebff;}#sk-container-id-1 div.sk-label input.sk-toggleable__control:checked~label.sk-toggleable__label {background-color: #d4ebff;}#sk-container-id-1 input.sk-hidden--visually {border: 0;clip: rect(1px 1px 1px 1px);clip: rect(1px, 1px, 1px, 1px);height: 1px;margin: -1px;overflow: hidden;padding: 0;position: absolute;width: 1px;}#sk-container-id-1 div.sk-estimator {font-family: monospace;background-color: #f0f8ff;border: 1px dotted black;border-radius: 0.25em;box-sizing: border-box;margin-bottom: 0.5em;}#sk-container-id-1 div.sk-estimator:hover {background-color: #d4ebff;}#sk-container-id-1 div.sk-parallel-item::after {content: \"\";width: 100%;border-bottom: 1px solid gray;flex-grow: 1;}#sk-container-id-1 div.sk-label:hover label.sk-toggleable__label {background-color: #d4ebff;}#sk-container-id-1 div.sk-serial::before {content: \"\";position: absolute;border-left: 1px solid gray;box-sizing: border-box;top: 0;bottom: 0;left: 50%;z-index: 0;}#sk-container-id-1 div.sk-serial {display: flex;flex-direction: column;align-items: center;background-color: white;padding-right: 0.2em;padding-left: 0.2em;position: relative;}#sk-container-id-1 div.sk-item {position: relative;z-index: 1;}#sk-container-id-1 div.sk-parallel {display: flex;align-items: stretch;justify-content: center;background-color: white;position: relative;}#sk-container-id-1 div.sk-item::before, #sk-container-id-1 div.sk-parallel-item::before {content: \"\";position: absolute;border-left: 1px solid gray;box-sizing: border-box;top: 0;bottom: 0;left: 50%;z-index: -1;}#sk-container-id-1 div.sk-parallel-item {display: flex;flex-direction: column;z-index: 1;position: relative;background-color: white;}#sk-container-id-1 div.sk-parallel-item:first-child::after {align-self: flex-end;width: 50%;}#sk-container-id-1 div.sk-parallel-item:last-child::after {align-self: flex-start;width: 50%;}#sk-container-id-1 div.sk-parallel-item:only-child::after {width: 0;}#sk-container-id-1 div.sk-dashed-wrapped {border: 1px dashed gray;margin: 0 0.4em 0.5em 0.4em;box-sizing: border-box;padding-bottom: 0.4em;background-color: white;}#sk-container-id-1 div.sk-label label {font-family: monospace;font-weight: bold;display: inline-block;line-height: 1.2em;}#sk-container-id-1 div.sk-label-container {text-align: center;}#sk-container-id-1 div.sk-container {/* jupyter's `normalize.less` sets `[hidden] { display: none; }` but bootstrap.min.css set `[hidden] { display: none !important; }` so we also need the `!important` here to be able to override the default hidden behavior on the sphinx rendered scikit-learn.org. See: https://github.com/scikit-learn/scikit-learn/issues/21755 */display: inline-block !important;position: relative;}#sk-container-id-1 div.sk-text-repr-fallback {display: none;}</style><div id=\"sk-container-id-1\" class=\"sk-top-container\"><div class=\"sk-text-repr-fallback\"><pre>GaussianNB()</pre><b>In a Jupyter environment, please rerun this cell to show the HTML representation or trust the notebook. <br />On GitHub, the HTML representation is unable to render, please try loading this page with nbviewer.org.</b></div><div class=\"sk-container\" hidden><div class=\"sk-item\"><div class=\"sk-estimator sk-toggleable\"><input class=\"sk-toggleable__control sk-hidden--visually\" id=\"sk-estimator-id-1\" type=\"checkbox\" checked><label for=\"sk-estimator-id-1\" class=\"sk-toggleable__label sk-toggleable__label-arrow\">GaussianNB</label><div class=\"sk-toggleable__content\"><pre>GaussianNB()</pre></div></div></div></div></div>"
      ],
      "text/plain": [
       "GaussianNB()"
      ]
     },
     "execution_count": 21,
     "metadata": {},
     "output_type": "execute_result"
    }
   ],
   "source": [
    "clf=GaussianNB()\n",
    "clf.fit(X_train, y_train)"
   ]
  },
  {
   "cell_type": "code",
   "execution_count": 22,
   "id": "107cb694",
   "metadata": {
    "id": "107cb694"
   },
   "outputs": [],
   "source": [
    "import warnings\n",
    "warnings.filterwarnings('ignore')"
   ]
  },
  {
   "cell_type": "code",
   "execution_count": 24,
   "id": "10dfd082",
   "metadata": {
    "id": "10dfd082"
   },
   "outputs": [
    {
     "name": "stdout",
     "output_type": "stream",
     "text": [
      "              precision    recall  f1-score   support\n",
      "\n",
      "          -1       0.37      1.00      0.54       174\n",
      "           0       0.00      0.00      0.00       137\n",
      "           1       0.00      0.00      0.00       155\n",
      "\n",
      "    accuracy                           0.37       466\n",
      "   macro avg       0.12      0.33      0.18       466\n",
      "weighted avg       0.14      0.37      0.20       466\n",
      "\n"
     ]
    }
   ],
   "source": [
    "y_pred=clf.predict(X_test)\n",
    "print(classification_report(y_test,y_pred))"
   ]
  },
  {
   "cell_type": "code",
   "execution_count": 25,
   "id": "4cde8f07",
   "metadata": {
    "id": "4cde8f07"
   },
   "outputs": [
    {
     "name": "stdout",
     "output_type": "stream",
     "text": [
      "Final Accuracy: 0.373\n"
     ]
    }
   ],
   "source": [
    "y_pred\n",
    "print('Final Accuracy: %.3f' % accuracy_score(y_test,y_pred))"
   ]
  },
  {
   "cell_type": "markdown",
   "id": "5bc3a4de",
   "metadata": {
    "id": "5bc3a4de"
   },
   "source": [
    "# BernoulliNB()"
   ]
  },
  {
   "cell_type": "code",
   "execution_count": 26,
   "id": "02406688",
   "metadata": {
    "id": "02406688"
   },
   "outputs": [
    {
     "name": "stdout",
     "output_type": "stream",
     "text": [
      "BernoulliNB(binarize=0.1)\n",
      "0.4227467811158798\n"
     ]
    }
   ],
   "source": [
    "BernNB=BernoulliNB(binarize = 0.1)\n",
    "BernNB.fit(X_train,y_train)\n",
    "print(BernNB)\n",
    "\n",
    "y_pred2=BernNB.predict(X_test)\n",
    "print(accuracy_score(y_test,y_pred2))"
   ]
  },
  {
   "cell_type": "code",
   "execution_count": 30,
   "id": "376f8b43",
   "metadata": {
    "id": "376f8b43"
   },
   "outputs": [
    {
     "name": "stdout",
     "output_type": "stream",
     "text": [
      "Training set score: 0.5230\n",
      "Test set score: 0.3734\n"
     ]
    }
   ],
   "source": [
    "# print the scores on training and test set\n",
    "\n",
    "print('Training set score: {:.4f}'.format(clf.score(X_train, y_train)))\n",
    "\n",
    "print('Test set score: {:.4f}'.format(clf.score(X_test, y_test)))"
   ]
  },
  {
   "cell_type": "code",
   "execution_count": 31,
   "id": "d0c2dae4",
   "metadata": {
    "collapsed": true,
    "id": "d0c2dae4"
   },
   "outputs": [
    {
     "name": "stdout",
     "output_type": "stream",
     "text": [
      "Confusion matrix\n",
      "\n",
      " [[174   0   0]\n",
      " [137   0   0]\n",
      " [155   0   0]]\n",
      "\n",
      "True Positives(TP) =  174\n",
      "\n",
      "True Negatives(TN) =  0\n",
      "\n",
      "False Positives(FP) =  0\n",
      "\n",
      "False Negatives(FN) =  137\n"
     ]
    }
   ],
   "source": [
    "cm = confusion_matrix(y_test, y_pred)\n",
    "\n",
    "print('Confusion matrix\\n\\n', cm)\n",
    "\n",
    "print('\\nTrue Positives(TP) = ', cm[0,0])\n",
    "\n",
    "print('\\nTrue Negatives(TN) = ', cm[1,1])\n",
    "\n",
    "print('\\nFalse Positives(FP) = ', cm[0,1])\n",
    "\n",
    "print('\\nFalse Negatives(FN) = ', cm[1,0])"
   ]
  },
  {
   "cell_type": "code",
   "execution_count": 32,
   "id": "7963f2f8",
   "metadata": {
    "id": "7963f2f8"
   },
   "outputs": [
    {
     "data": {
      "image/png": "[encoded data removed]",
      "text/plain": [
       "<Figure size 640x480 with 2 Axes>"
      ]
     },
     "metadata": {},
     "output_type": "display_data"
    }
   ],
   "source": [
    "sns.heatmap((confusion_matrix(y_test,y_pred)),annot=True,fmt='.5g',cmap=\"YlGn\").set_title('Test Data');"
   ]
  },
  {
   "cell_type": "markdown",
   "id": "2f60b6b4",
   "metadata": {},
   "source": [
    "# KNeighbours Classifier "
   ]
  },
  {
   "cell_type": "code",
   "execution_count": 173,
   "id": "3615d25e",
   "metadata": {},
   "outputs": [],
   "source": [
    "from sklearn.model_selection import train_test_split\n",
    "from sklearn.metrics import accuracy_score\n",
    "from sklearn.neighbors import KNeighborsClassifier\n",
    "\n",
    "df = pd.read_csv(\"sheet.csv\")\n",
    "df[\"AdjClose\"] = df.Close.diff()\n",
    "df[\"SMA_2\"] = df.Close.rolling(2).mean()\n",
    "df[\"Force_Index\"] = df[\"Close\"] * df[\"Volume\"]\n",
    "df[\"y1\"] = df[\"AdjClose\"].apply(lambda x1: 1 if x1 > 0 else 0).shift(-1)\n",
    "df = df.drop(\n",
    "   [\"Date\",\"Open\", \"High\", \"Low\", \"Close\", \"Volume\", \"AdjClose\"],\n",
    "   axis=1,\n",
    ").dropna()\n",
    "# print(df)\n",
    "X_new = df.drop([\"y1\"], axis=1).values\n",
    "y_new = df[\"y1\"].values\n",
    "X_new_train, X_new_test, y_new_train, y_new_test = train_test_split(X_new,y_new,test_size=0.2,shuffle=False)"
   ]
  },
  {
   "cell_type": "code",
   "execution_count": 174,
   "id": "3430488b",
   "metadata": {},
   "outputs": [
    {
     "name": "stdout",
     "output_type": "stream",
     "text": [
      "0.5112903225806451\n"
     ]
    }
   ],
   "source": [
    "knn = KNeighborsClassifier(n_neighbors=5, metric = 'hamming')\n",
    "knn.fit(X_new_train,y_new_train)\n",
    "y1_pred = knn.predict(X_new_test)\n",
    "print(accuracy_score(y_new_test, y1_pred))"
   ]
  },
  {
   "cell_type": "code",
   "execution_count": 175,
   "id": "89415f24",
   "metadata": {},
   "outputs": [
    {
     "name": "stdout",
     "output_type": "stream",
     "text": [
      "              precision    recall  f1-score   support\n",
      "\n",
      "         0.0       0.47      0.55      0.51       286\n",
      "         1.0       0.55      0.48      0.51       334\n",
      "\n",
      "    accuracy                           0.51       620\n",
      "   macro avg       0.51      0.51      0.51       620\n",
      "weighted avg       0.52      0.51      0.51       620\n",
      "\n"
     ]
    }
   ],
   "source": [
    "print(classification_report(y_new_test,y1_pred))"
   ]
  },
  {
   "cell_type": "code",
   "execution_count": 176,
   "id": "1c1f5242",
   "metadata": {},
   "outputs": [
    {
     "name": "stdout",
     "output_type": "stream",
     "text": [
      "Confusion matrix\n",
      "\n",
      " [[157 129]\n",
      " [174 160]]\n",
      "\n",
      "True Positives(TP) =  157\n",
      "\n",
      "True Negatives(TN) =  160\n",
      "\n",
      "False Positives(FP) =  129\n",
      "\n",
      "False Negatives(FN) =  174\n"
     ]
    }
   ],
   "source": [
    "#Creating the Confusion matrix  \n",
    "from sklearn.metrics import confusion_matrix  \n",
    "cm= confusion_matrix(y_new_test, y1_pred)  \n",
    "print('Confusion matrix\\n\\n', cm)\n",
    "\n",
    "print('\\nTrue Positives(TP) = ', cm[0,0])\n",
    "\n",
    "print('\\nTrue Negatives(TN) = ', cm[1,1])\n",
    "\n",
    "print('\\nFalse Positives(FP) = ', cm[0,1])\n",
    "\n",
    "print('\\nFalse Negatives(FN) = ', cm[1,0])"
   ]
  },
  {
   "cell_type": "code",
   "execution_count": 177,
   "id": "bd15309c",
   "metadata": {},
   "outputs": [
    {
     "data": {
      "image/png": "[encoded data removed]",
      "text/plain": [
       "<Figure size 640x480 with 2 Axes>"
      ]
     },
     "metadata": {},
     "output_type": "display_data"
    }
   ],
   "source": [
    "sns.heatmap((confusion_matrix(y_new_test,y1_pred)),annot=True,fmt='.5g',cmap=\"YlGn\").set_title('KNeighbour Classifier');"
   ]
  },
  {
   "cell_type": "code",
   "execution_count": 178,
   "id": "9ed01bf4",
   "metadata": {},
   "outputs": [
    {
     "data": {
      "text/plain": [
       "Text(0.5, 1.0, 'Predicted values')"
      ]
     },
     "execution_count": 178,
     "metadata": {},
     "output_type": "execute_result"
    },
    {
     "data": {
      "image/png": "[encoded data removed]",
      "text/plain": [
       "<Figure size 1500x500 with 1 Axes>"
      ]
     },
     "metadata": {},
     "output_type": "display_data"
    }
   ],
   "source": [
    "plt.figure(figsize = (15,5))\n",
    "plt.subplot(1,2,1)\n",
    "plt.scatter(X_new_test[:,0], X_new_test[:,1], c=y1_pred, marker= '*', s=100,edgecolors='black')\n",
    "plt.title(\"Predicted values\", fontsize=10)"
   ]
  },
  {
   "cell_type": "markdown",
   "id": "674e2b4f",
   "metadata": {
    "id": "674e2b4f"
   },
   "source": [
    "# ARIMA (Stock Market Forecasting)\n",
    "(AutoRegressive Integrated Moving Average) is a forecasting algorithm based on the idea that the information in the past values of the time series can alone be used to predict the future values.\n",
    "\n",
    "ARIMA models explain a time series based on its own past values, basically its own lags and the lagged forecast errors."
   ]
  },
  {
   "cell_type": "code",
   "execution_count": 1,
   "id": "fc492fb4",
   "metadata": {
    "id": "fc492fb4"
   },
   "outputs": [],
   "source": [
    "from IPython.core.debugger import set_trace \n",
    "\n",
    "import pandas as pd\n",
    "import numpy as np \n",
    "import os \n",
    "import matplotlib.pyplot as plt\n",
    "import time\n",
    "\n",
    "plt.style.use(style=\"seaborn\")\n",
    "%matplotlib inline"
   ]
  },
  {
   "cell_type": "code",
   "execution_count": 2,
   "id": "91IxBvepSyBs",
   "metadata": {
    "id": "91IxBvepSyBs"
   },
   "outputs": [],
   "source": [
    "import os\n",
    "import warnings\n",
    "warnings.filterwarnings('ignore')\n",
    "import numpy as np\n",
    "import pandas as pd\n",
    "import matplotlib.pyplot as plt\n",
    "plt.style.use('fivethirtyeight')\n",
    "from pylab import rcParams\n",
    "rcParams['figure.figsize'] = 10, 6\n",
    "from statsmodels.tsa.stattools import adfuller\n",
    "from statsmodels.tsa.seasonal import seasonal_decompose\n",
    "from statsmodels.tsa.arima_model import ARIMA\n",
    "\n",
    "\n",
    "from sklearn.metrics import mean_squared_error, mean_absolute_error\n",
    "import math\n",
    "\n",
    "for dirname, _, filenames in os.walk('/kaggle/input'):\n",
    "    for filename in filenames:\n",
    "        print(os.path.join(dirname, filename))"
   ]
  },
  {
   "cell_type": "markdown",
   "id": "5Qm3eKCvekqV",
   "metadata": {
    "id": "5Qm3eKCvekqV"
   },
   "source": [
    "Loading the dataset."
   ]
  },
  {
   "cell_type": "code",
   "execution_count": 3,
   "id": "skPQ71FoS3Tk",
   "metadata": {
    "id": "skPQ71FoS3Tk"
   },
   "outputs": [],
   "source": [
    "dateparse = lambda dates: pd.datetime.strptime(dates, '%Y/%m/%d')\n",
    "data = pd.read_csv('/content/sample_data/sheet.csv',sep=',', index_col='Date', parse_dates=['Date'], date_parser=dateparse).fillna(0)\n"
   ]
  },
  {
   "cell_type": "code",
   "execution_count": null,
   "id": "M2yUepmTNqli",
   "metadata": {
    "id": "M2yUepmTNqli"
   },
   "outputs": [],
   "source": [
    "data.head()"
   ]
  },
  {
   "cell_type": "markdown",
   "id": "Qkb6jP0Fe4Js",
   "metadata": {
    "id": "Qkb6jP0Fe4Js"
   },
   "source": [
    "Showing the columns in the dataset "
   ]
  },
  {
   "cell_type": "code",
   "execution_count": null,
   "id": "iiROMgT3e4S8",
   "metadata": {
    "id": "iiROMgT3e4S8"
   },
   "outputs": [],
   "source": [
    "data.info()"
   ]
  },
  {
   "cell_type": "markdown",
   "id": "aZT-3csOKwJA",
   "metadata": {
    "id": "aZT-3csOKwJA"
   },
   "source": [
    "Visualizing the per day closing price of the stock."
   ]
  },
  {
   "cell_type": "code",
   "execution_count": null,
   "id": "kAiWHB8OOXbw",
   "metadata": {
    "id": "kAiWHB8OOXbw"
   },
   "outputs": [],
   "source": [
    "#plot close price\n",
    "plt.figure(figsize=(10,6))\n",
    "plt.grid(True)\n",
    "plt.xlabel('Date')\n",
    "plt.ylabel('Close Prices')\n",
    "plt.plot(data['Close'])\n",
    "plt.title('Reliance GROUP closing price')\n",
    "plt.show()"
   ]
  },
  {
   "cell_type": "markdown",
   "id": "7-dBUObneeST",
   "metadata": {
    "id": "7-dBUObneeST"
   },
   "source": [
    "Creating a copy of the data with just close (closing price) feature."
   ]
  },
  {
   "cell_type": "code",
   "execution_count": 8,
   "id": "ZNEqgFsIeSVm",
   "metadata": {
    "id": "ZNEqgFsIeSVm"
   },
   "outputs": [],
   "source": [
    "dataf= data[[\"Close\"]].copy()"
   ]
  },
  {
   "cell_type": "code",
   "execution_count": null,
   "id": "ngNkXrgXfFpu",
   "metadata": {
    "id": "ngNkXrgXfFpu"
   },
   "outputs": [],
   "source": [
    "dataf.describe()"
   ]
  },
  {
   "cell_type": "markdown",
   "id": "jbvLF7cjQdNq",
   "metadata": {
    "id": "jbvLF7cjQdNq"
   },
   "source": [
    "Visualizing the data in our series through a probability distribution"
   ]
  },
  {
   "cell_type": "code",
   "execution_count": null,
   "id": "0_QDgvKsQMG9",
   "metadata": {
    "id": "0_QDgvKsQMG9"
   },
   "outputs": [],
   "source": [
    "dataf.plot(kind='kde')"
   ]
  },
  {
   "cell_type": "markdown",
   "id": "rq50FKYPQhZ5",
   "metadata": {
    "id": "rq50FKYPQhZ5"
   },
   "source": [
    "Also, a given time series is thought to consist of three systematic components including level, trend, seasonality, and one non-systematic component called noise.\n",
    "\n",
    "These components are defined as follows:\n",
    "\n",
    "Level: The average value in the series.\n",
    "\n",
    "Trend: The increasing or decreasing value in the series.\n",
    "\n",
    "Seasonality: The repeating short-term cycle in the series.\n",
    "\n",
    "Noise: The random variation in the series.\n",
    "\n",
    "First, we need to check if a series is stationary or not because time series analysis only works with stationary data."
   ]
  },
  {
   "cell_type": "markdown",
   "id": "wXsFLws8QyAD",
   "metadata": {
    "id": "wXsFLws8QyAD"
   },
   "source": [
    "ADF (Augmented Dickey-Fuller) Test\n",
    "\n",
    "The Dickey-Fuller test is one of the most popular statistical tests. It can be used to determine the presence of unit root in the series, and hence help us understand if the series is stationary or not. The null and alternate hypothesis of this test is:\n",
    "\n",
    "Null Hypothesis: The series has a unit root (value of a =1)\n",
    "\n",
    "Alternate Hypothesis: The series has no unit root.\n",
    "\n",
    "If we fail to reject the null hypothesis, we can say that the series is non-stationary. This means that the series can be linear or difference stationary.\n",
    "\n",
    "If both mean and standard deviation are flat lines(constant mean and constant variance), the series becomes stationary.\n",
    "\n",
    "**So let's check for stationarity:"
   ]
  },
  {
   "cell_type": "code",
   "execution_count": null,
   "id": "dRx64MsoRB37",
   "metadata": {
    "id": "dRx64MsoRB37"
   },
   "outputs": [],
   "source": [
    "#Test for staionarity\n",
    "def test_stationarity(timeseries):\n",
    "    #Determing rolling statistics\n",
    "    rolmean = timeseries.rolling(12).mean()\n",
    "    rolstd = timeseries.rolling(12).std()\n",
    "    #Plot rolling statistics:\n",
    "    plt.plot(timeseries, color='blue',label='Original')\n",
    "    plt.plot(rolmean, color='red', label='Rolling Mean')\n",
    "    plt.plot(rolstd, color='black', label = 'Rolling Std')\n",
    "    plt.legend(loc='best')\n",
    "    plt.title('Rolling Mean and Standard Deviation')\n",
    "    plt.show(block=False)\n",
    "    \n",
    "    print(\"Results of dickey fuller test\")\n",
    "    adft = adfuller(timeseries,autolag='AIC')\n",
    "    # output for dft will give us without defining what the values are.\n",
    "    #hence we manually write what values does it explains using a for loop\n",
    "    output = pd.Series(adft[0:4],index=['Test Statistics','p-value','No. of lags used','Number of observations used'])\n",
    "    for key,values in adft[4].items():\n",
    "        output['critical value (%s)'%key] =  values\n",
    "    print(output)\n",
    "    \n",
    "test_stationarity(dataf)"
   ]
  },
  {
   "cell_type": "markdown",
   "id": "8wZzuxhcRVAw",
   "metadata": {
    "id": "8wZzuxhcRVAw"
   },
   "source": [
    "Through the above graph, we can see the increasing mean and standard deviation and hence our series is not stationary.\n",
    "\n",
    "We see that the p-value is greater than 0.05 so we cannot reject the Null hypothesis. Also, the test statistics is greater than the critical values. so the data is non-stationary.\n",
    "\n",
    "In order to perform a time series analysis, we may need to separate seasonality and trend from our series. The resultant series will become stationary through this process.\n",
    "\n",
    "So let us separate Trend and Seasonality from the time series."
   ]
  },
  {
   "cell_type": "code",
   "execution_count": 12,
   "id": "d0Rsdck6fF0Y",
   "metadata": {
    "colab": {
     "base_uri": "https://localhost:8080/"
    },
    "id": "d0Rsdck6fF0Y",
    "outputId": "027321f9-4414-4208-a96b-85be44d910fc"
   },
   "outputs": [
    {
     "name": "stdout",
     "output_type": "stream",
     "text": [
      "ADF Statistic: 0.6464651620094167\n",
      "p=value: 0.9887066433562735\n"
     ]
    }
   ],
   "source": [
    "# check if the price series is stationary \n",
    "\n",
    "from statsmodels.tsa.stattools import adfuller \n",
    "result = adfuller(data.Close.dropna())\n",
    "print(f\"ADF Statistic: {result[0]}\")\n",
    "print(f\"p=value: {result[1]}\")"
   ]
  },
  {
   "cell_type": "markdown",
   "id": "LXPvogLFta0X",
   "metadata": {
    "id": "LXPvogLFta0X"
   },
   "source": [
    "Hence, p-value is quite high so it's clear that the price series is not stationary. beacause we all will be rich and buying low and sell high "
   ]
  },
  {
   "cell_type": "markdown",
   "id": "-KlBX2JEvpPv",
   "metadata": {
    "id": "-KlBX2JEvpPv"
   },
   "source": [
    "Autocorrelation Function (ACF)\n"
   ]
  },
  {
   "cell_type": "code",
   "execution_count": 14,
   "id": "iq2gR0GNtuB3",
   "metadata": {
    "id": "iq2gR0GNtuB3"
   },
   "outputs": [],
   "source": [
    "from statsmodels.graphics.tsaplots import plot_acf"
   ]
  },
  {
   "cell_type": "code",
   "execution_count": null,
   "id": "75oSFhFmv4Qr",
   "metadata": {
    "id": "75oSFhFmv4Qr"
   },
   "outputs": [],
   "source": [
    "fig, (ax1, ax2 ) = plt.subplots(1, 2, figsize=(16, 4))\n",
    "ax1.plot(dataf.Close)\n",
    "ax1.set_title(\"Original\")\n",
    "\n",
    "#add : at the end of the plot function so that the plot is not duplicated\n",
    "plot_acf(dataf, ax=ax2);"
   ]
  },
  {
   "cell_type": "markdown",
   "id": "ybEjmCJWyNyY",
   "metadata": {
    "id": "ybEjmCJWyNyY"
   },
   "source": [
    "Left graph = original price series \n",
    "Right graph = Autocorrelation "
   ]
  },
  {
   "cell_type": "code",
   "execution_count": null,
   "id": "CYqCW2sZ1hYJ",
   "metadata": {
    "id": "CYqCW2sZ1hYJ"
   },
   "outputs": [],
   "source": [
    "diff = dataf.Close.diff().dropna()\n",
    "\n",
    "fig, (ax1, ax2 ) = plt.subplots(1, 2, figsize=(16, 4))\n",
    "\n",
    "ax1.plot(diff)\n",
    "ax1.set_title(\"Difference once\")\n",
    "\n",
    "#add : at the end of the plot function so that the plot is not duplicated\n",
    "plot_acf(diff, ax=ax2);\n"
   ]
  },
  {
   "cell_type": "markdown",
   "id": "mNb_DeDy0L5Z",
   "metadata": {
    "id": "mNb_DeDy0L5Z"
   },
   "source": [
    "After difference it once , we are getting the returns of close price, now our returns are randomly distributed around the mean of zero \n",
    "\n"
   ]
  },
  {
   "cell_type": "code",
   "execution_count": null,
   "id": "qGvZjCF217YI",
   "metadata": {
    "id": "qGvZjCF217YI"
   },
   "outputs": [],
   "source": [
    "diff = dataf.Close.diff().diff().dropna()\n",
    "\n",
    "fig, (ax1, ax2 ) = plt.subplots(1, 2, figsize=(16, 4))\n",
    "\n",
    "ax1.plot(diff)\n",
    "ax1.set_title(\"Difference twice\")\n",
    "\n",
    "#add : at the end of the plot function so that the plot is not duplicated\n",
    "plot_acf(diff, ax=ax2);\n"
   ]
  },
  {
   "cell_type": "markdown",
   "id": "4hg7w8Xr1C3M",
   "metadata": {
    "id": "4hg7w8Xr1C3M"
   },
   "source": [
    "In the second differencing, the lag goes into the far negative compared to the first order of differencing so that may indicate that the series might have been over difference so w'll choose order of diffrencing as 1\n",
    "\n",
    "So the value of  d = 1"
   ]
  },
  {
   "cell_type": "code",
   "execution_count": 19,
   "id": "6pY05LBm3SR7",
   "metadata": {
    "colab": {
     "base_uri": "https://localhost:8080/",
     "height": 610
    },
    "id": "6pY05LBm3SR7",
    "outputId": "21647ddc-edd3-4ee1-8f65-252d5209adbc"
   },
   "outputs": [
    {
     "name": "stdout",
     "output_type": "stream",
     "text": [
      "Looking in indexes: https://pypi.org/simple, https://us-python.pkg.dev/colab-wheels/public/simple/\n",
      "Collecting pmdarima\n",
      "  Downloading pmdarima-2.0.1-cp37-cp37m-manylinux_2_17_x86_64.manylinux2014_x86_64.manylinux_2_28_x86_64.whl (1.8 MB)\n",
      "\u001b[K     |████████████████████████████████| 1.8 MB 5.1 MB/s \n",
      "\u001b[?25hRequirement already satisfied: joblib>=0.11 in /usr/local/lib/python3.7/dist-packages (from pmdarima) (1.2.0)\n",
      "Requirement already satisfied: setuptools!=50.0.0,>=38.6.0 in /usr/local/lib/python3.7/dist-packages (from pmdarima) (57.4.0)\n",
      "Collecting statsmodels>=0.13.2\n",
      "  Downloading statsmodels-0.13.5-cp37-cp37m-manylinux_2_17_x86_64.manylinux2014_x86_64.whl (9.9 MB)\n",
      "\u001b[K     |████████████████████████████████| 9.9 MB 40.4 MB/s \n",
      "\u001b[?25hRequirement already satisfied: scipy>=1.3.2 in /usr/local/lib/python3.7/dist-packages (from pmdarima) (1.7.3)\n",
      "Requirement already satisfied: scikit-learn>=0.22 in /usr/local/lib/python3.7/dist-packages (from pmdarima) (1.0.2)\n",
      "Requirement already satisfied: pandas>=0.19 in /usr/local/lib/python3.7/dist-packages (from pmdarima) (1.3.5)\n",
      "Requirement already satisfied: urllib3 in /usr/local/lib/python3.7/dist-packages (from pmdarima) (1.24.3)\n",
      "Requirement already satisfied: Cython!=0.29.18,!=0.29.31,>=0.29 in /usr/local/lib/python3.7/dist-packages (from pmdarima) (0.29.32)\n",
      "Requirement already satisfied: numpy>=1.21 in /usr/local/lib/python3.7/dist-packages (from pmdarima) (1.21.6)\n",
      "Requirement already satisfied: pytz>=2017.3 in /usr/local/lib/python3.7/dist-packages (from pandas>=0.19->pmdarima) (2022.6)\n",
      "Requirement already satisfied: python-dateutil>=2.7.3 in /usr/local/lib/python3.7/dist-packages (from pandas>=0.19->pmdarima) (2.8.2)\n",
      "Requirement already satisfied: six>=1.5 in /usr/local/lib/python3.7/dist-packages (from python-dateutil>=2.7.3->pandas>=0.19->pmdarima) (1.15.0)\n",
      "Requirement already satisfied: threadpoolctl>=2.0.0 in /usr/local/lib/python3.7/dist-packages (from scikit-learn>=0.22->pmdarima) (3.1.0)\n",
      "Requirement already satisfied: packaging>=21.3 in /usr/local/lib/python3.7/dist-packages (from statsmodels>=0.13.2->pmdarima) (21.3)\n",
      "Requirement already satisfied: patsy>=0.5.2 in /usr/local/lib/python3.7/dist-packages (from statsmodels>=0.13.2->pmdarima) (0.5.3)\n",
      "Requirement already satisfied: pyparsing!=3.0.5,>=2.0.2 in /usr/local/lib/python3.7/dist-packages (from packaging>=21.3->statsmodels>=0.13.2->pmdarima) (3.0.9)\n",
      "Installing collected packages: statsmodels, pmdarima\n",
      "  Attempting uninstall: statsmodels\n",
      "    Found existing installation: statsmodels 0.12.2\n",
      "    Uninstalling statsmodels-0.12.2:\n",
      "      Successfully uninstalled statsmodels-0.12.2\n",
      "Successfully installed pmdarima-2.0.1 statsmodels-0.13.5\n"
     ]
    },
    {
     "data": {
      "application/vnd.colab-display-data+json": {
       "pip_warning": {
        "packages": [
         "statsmodels"
        ]
       }
      }
     },
     "metadata": {},
     "output_type": "display_data"
    }
   ],
   "source": [
    "!pip install pmdarima "
   ]
  },
  {
   "cell_type": "markdown",
   "id": "AmALOjzV5GuR",
   "metadata": {
    "id": "AmALOjzV5GuR"
   },
   "source": [
    "P \n",
    "\n",
    "p is the order of the Auto Regressive (AR) term. It refers to the number of lags to be used as predictors.\n",
    "\n",
    "We can find out the required number of AR terms by inspecting the Partial Autocorrelation (PACF) plot \n",
    "\n",
    "The partial autocorrelation represents the correlation between the series and its lags.\n",
    "\n"
   ]
  },
  {
   "cell_type": "code",
   "execution_count": 20,
   "id": "CjD6EVXy22ck",
   "metadata": {
    "id": "CjD6EVXy22ck"
   },
   "outputs": [],
   "source": [
    "from statsmodels.graphics.tsaplots import plot_pacf"
   ]
  },
  {
   "cell_type": "code",
   "execution_count": null,
   "id": "Ifl9PSKo9vMg",
   "metadata": {
    "id": "Ifl9PSKo9vMg"
   },
   "outputs": [],
   "source": [
    "diff = dataf.Close.diff().dropna()\n",
    "\n",
    "fig, (ax1, ax2 ) = plt.subplots(1, 2, figsize=(16, 4))\n",
    "\n",
    "ax1.plot(diff)\n",
    "ax1.set_title(\"Difference once\")\n",
    "ax2.set_ylim(0, 1)\n",
    "\n",
    "plot_pacf(diff, ax=ax2);"
   ]
  },
  {
   "cell_type": "markdown",
   "id": "BKWsIvut949s",
   "metadata": {
    "id": "BKWsIvut949s"
   },
   "source": [
    "We can observe that the PACF lag 6 is significant as it's above the significant line.\n",
    "So the value of p = 6\n"
   ]
  },
  {
   "cell_type": "markdown",
   "id": "ZvWLcfDyBNH_",
   "metadata": {
    "id": "ZvWLcfDyBNH_"
   },
   "source": [
    "q\n",
    "\n",
    "q is the order of the Moving Average (MA) term. It refers to the number of lagged forecast errors that should go into the ARIMA Model.\n",
    "\n",
    "We can look at the ACF plot for the number of MA terms.\n"
   ]
  },
  {
   "cell_type": "code",
   "execution_count": null,
   "id": "Cs7T_Tl2Boae",
   "metadata": {
    "id": "Cs7T_Tl2Boae"
   },
   "outputs": [],
   "source": [
    "diff = dataf.Close.diff().dropna()\n",
    "\n",
    "fig, (ax1, ax2 ) = plt.subplots(1, 2, figsize=(16, 4))\n",
    "\n",
    "ax1.plot(diff)\n",
    "ax1.set_title(\"Difference once\")\n",
    "ax2.set_ylim(0, 1)\n",
    "\n",
    "plot_acf(diff, ax=ax2);"
   ]
  },
  {
   "cell_type": "markdown",
   "id": "mP3CKLsNc3PL",
   "metadata": {
    "id": "mP3CKLsNc3PL"
   },
   "source": [
    "Here we can see that the forecast error 3 may be suitable for this model so the value of q = 3\n"
   ]
  },
  {
   "cell_type": "code",
   "execution_count": null,
   "id": "aKa0WeCtUei7",
   "metadata": {
    "id": "aKa0WeCtUei7"
   },
   "outputs": [],
   "source": [
    "#if not stationary then eliminate trend\n",
    "#Eliminate trend\n",
    "from pylab import rcParams\n",
    "rcParams['figure.figsize'] = 10, 6\n",
    "df_log = np.log(dataf.Close)\n",
    "moving_avg = df_log.rolling(12).mean()\n",
    "std_dev = df_log.rolling(12).std()\n",
    "plt.legend(loc='best')\n",
    "plt.title('Moving Average')\n",
    "plt.plot(std_dev, color =\"black\", label = \"Standard Deviation\")\n",
    "plt.plot(moving_avg, color=\"red\", label = \"Mean\")\n",
    "plt.legend()\n",
    "plt.show()\n"
   ]
  },
  {
   "cell_type": "markdown",
   "id": "2ckmvE6HUFY8",
   "metadata": {
    "id": "2ckmvE6HUFY8"
   },
   "source": [
    "Now we are going to create an ARIMA model and will train it with the closing price of the stock on the train data. So let us split the data into training and test set and visualize it."
   ]
  },
  {
   "cell_type": "markdown",
   "id": "5ab9PdiKYRmE",
   "metadata": {
    "id": "5ab9PdiKYRmE"
   },
   "source": [
    "TRAIN TEST SPLIT\n",
    "\n",
    "20% = Test data and 80% training data"
   ]
  },
  {
   "cell_type": "code",
   "execution_count": 25,
   "id": "FAMZMwQxUNqp",
   "metadata": {
    "id": "FAMZMwQxUNqp"
   },
   "outputs": [],
   "source": [
    "#split data into train and training set\n",
    "n = int(len(dataf)* 0.8)\n",
    "train = dataf.Close[ :n]\n",
    "test = dataf.Close[ n: ]"
   ]
  },
  {
   "cell_type": "code",
   "execution_count": 26,
   "id": "FbVda42UZBIf",
   "metadata": {
    "colab": {
     "base_uri": "https://localhost:8080/"
    },
    "id": "FbVda42UZBIf",
    "outputId": "3e6e6583-1533-4abd-dfaa-3c0f760dcf40"
   },
   "outputs": [
    {
     "name": "stdout",
     "output_type": "stream",
     "text": [
      "2490\n",
      "623\n"
     ]
    }
   ],
   "source": [
    "print(len(train))\n",
    "print(len(test))"
   ]
  },
  {
   "cell_type": "code",
   "execution_count": 27,
   "id": "K8MeHNz-ZBLX",
   "metadata": {
    "id": "K8MeHNz-ZBLX"
   },
   "outputs": [],
   "source": [
    "from statsmodels.tsa.arima_model import ARIMA "
   ]
  },
  {
   "cell_type": "code",
   "execution_count": 28,
   "id": "QcAWk1bE-iOa",
   "metadata": {
    "colab": {
     "base_uri": "https://localhost:8080/"
    },
    "id": "QcAWk1bE-iOa",
    "outputId": "5612a0fb-36de-4aa9-f4b0-3d0be21a9828"
   },
   "outputs": [
    {
     "name": "stderr",
     "output_type": "stream",
     "text": [
      "/usr/local/lib/python3.7/dist-packages/statsmodels/tsa/base/tsa_model.py:583: ValueWarning: A date index has been provided, but it has no associated frequency information and so will be ignored when e.g. forecasting.\n",
      "  warnings.warn(\n",
      "/usr/local/lib/python3.7/dist-packages/statsmodels/tsa/base/tsa_model.py:583: ValueWarning: A date index has been provided, but it has no associated frequency information and so will be ignored when e.g. forecasting.\n",
      "  warnings.warn(\n"
     ]
    }
   ],
   "source": [
    "# Fitting the model\n",
    "model = ARIMA (train, order=(6, 1, 3))\n",
    "result = model.fit(disp=0)"
   ]
  },
  {
   "cell_type": "code",
   "execution_count": null,
   "id": "3XmgZuDH-rUA",
   "metadata": {
    "id": "3XmgZuDH-rUA"
   },
   "outputs": [],
   "source": [
    "result.summary()"
   ]
  },
  {
   "cell_type": "markdown",
   "id": "nvNMGwqh_U_O",
   "metadata": {
    "id": "nvNMGwqh_U_O"
   },
   "source": [
    "As coefficients are not very close to zero, which means that we can keep all of them. So considering p values it shows that all of the terms are suitable for our linear regression."
   ]
  },
  {
   "cell_type": "code",
   "execution_count": null,
   "id": "1zjPcvUvDJ4Q",
   "metadata": {
    "id": "1zjPcvUvDJ4Q"
   },
   "outputs": [],
   "source": [
    "print(result.summary())"
   ]
  },
  {
   "cell_type": "markdown",
   "id": "JbdBwO7ZDZpW",
   "metadata": {
    "id": "JbdBwO7ZDZpW"
   },
   "source": [
    "These are our ARIMA model results: \n",
    "\n",
    "1. There are total 6 AR terms and 3 MA terms \n",
    "2. In the second column, those are the coefficients for the linear regression that are a part of this and contains the p value for each of these terms.\n",
    "\n",
    "\n"
   ]
  },
  {
   "cell_type": "markdown",
   "id": "RQc-dx50D_3e",
   "metadata": {
    "id": "RQc-dx50D_3e"
   },
   "source": [
    "If any of these coefficients are very close to 0, then we can remove that terms \n",
    "also the p values should be very low so that these terms are important to our regression model \n"
   ]
  },
  {
   "cell_type": "code",
   "execution_count": null,
   "id": "Y3Q4LduEEd-I",
   "metadata": {
    "id": "Y3Q4LduEEd-I"
   },
   "outputs": [],
   "source": [
    "# Looking at the summary, let's plot the residual errors \n",
    "\n",
    "residuals = pd.DataFrame(result.resid)\n",
    "\n",
    "fig, (ax1, ax2 ) = plt.subplots(1, 2, figsize=(16, 4))\n",
    "\n",
    "ax1.plot(residuals)\n",
    "ax2.hist(residuals, density=True)\n",
    "\n"
   ]
  },
  {
   "cell_type": "markdown",
   "id": "1TooLXl9F0IC",
   "metadata": {
    "id": "1TooLXl9F0IC"
   },
   "source": [
    "Residuals are distributed around the mean of zero\n"
   ]
  },
  {
   "cell_type": "markdown",
   "id": "SfhL8H3JF9Zq",
   "metadata": {
    "id": "SfhL8H3JF9Zq"
   },
   "source": [
    "In order to see the actual results versus the fitted/predicted results, we can look at the first 30 steps and setting dynamic as false.\n"
   ]
  },
  {
   "cell_type": "markdown",
   "id": "Z1qtUA2CAcAD",
   "metadata": {
    "id": "Z1qtUA2CAcAD"
   },
   "source": [
    "Now let's start forecast the stock prices on the test dataset keeping 95% confidence level."
   ]
  },
  {
   "cell_type": "markdown",
   "id": "vG7YfOfa_mF9",
   "metadata": {
    "id": "vG7YfOfa_mF9"
   },
   "source": [
    "Let's forecast 30 steps."
   ]
  },
  {
   "cell_type": "code",
   "execution_count": 32,
   "id": "wK7rx4F2_pvd",
   "metadata": {
    "id": "wK7rx4F2_pvd"
   },
   "outputs": [],
   "source": [
    "step = 30\n",
    "fc, se, conf = result.forecast(step)"
   ]
  },
  {
   "cell_type": "markdown",
   "id": "KbxsvGMe_ufv",
   "metadata": {
    "id": "KbxsvGMe_ufv"
   },
   "source": [
    "Let's check the forecast"
   ]
  },
  {
   "cell_type": "code",
   "execution_count": 33,
   "id": "P0klc0mAGUqy",
   "metadata": {
    "colab": {
     "base_uri": "https://localhost:8080/"
    },
    "id": "P0klc0mAGUqy",
    "outputId": "ee93d091-d63c-4806-f570-3af66f5b7a71"
   },
   "outputs": [
    {
     "data": {
      "text/plain": [
       "array([1293.47598425, 1295.13698902, 1298.12150066, 1300.31008089,\n",
       "       1301.50672853, 1302.15663021, 1303.88881804, 1305.57161959,\n",
       "       1305.88652018, 1305.4111641 , 1305.78625075, 1307.20288719,\n",
       "       1308.15620063, 1307.80598144, 1307.29558867, 1307.98622289,\n",
       "       1309.35373366, 1309.81156527, 1309.17806144, 1308.9580557 ,\n",
       "       1310.00709765, 1311.2072365 , 1311.20632055, 1310.51648838,\n",
       "       1310.71622778, 1312.00002812, 1312.87995004, 1312.49735881,\n",
       "       1311.95348423, 1312.59714477])"
      ]
     },
     "execution_count": 33,
     "metadata": {},
     "output_type": "execute_result"
    }
   ],
   "source": [
    "fc"
   ]
  },
  {
   "cell_type": "code",
   "execution_count": 35,
   "id": "RENrbezCMYpt",
   "metadata": {
    "colab": {
     "base_uri": "https://localhost:8080/"
    },
    "id": "RENrbezCMYpt",
    "outputId": "b282b667-d539-40e4-b8d7-fd46f4954e8e"
   },
   "outputs": [
    {
     "data": {
      "text/plain": [
       "array([[1241.33387562, 1345.61809289],\n",
       "       [1237.69717647, 1352.57680158],\n",
       "       [1235.71893823, 1360.52406309],\n",
       "       [1233.49792281, 1367.12223897],\n",
       "       [1230.67219016, 1372.3412669 ],\n",
       "       [1227.7682167 , 1376.54504373],\n",
       "       [1226.18037394, 1381.59726214],\n",
       "       [1224.79578492, 1386.34745426],\n",
       "       [1222.24365861, 1389.52938175],\n",
       "       [1219.00735913, 1391.81496908],\n",
       "       [1216.68423402, 1394.88826748],\n",
       "       [1215.50093563, 1398.90483875],\n",
       "       [1213.98049171, 1402.33190955],\n",
       "       [1211.24284054, 1404.36912234],\n",
       "       [1208.37297602, 1406.21820131],\n",
       "       [1206.73210267, 1409.24034312],\n",
       "       [1205.84272418, 1412.86474315],\n",
       "       [1204.13082667, 1415.49230387],\n",
       "       [1201.36983184, 1416.98629105],\n",
       "       [1199.02721147, 1418.88889992],\n",
       "       [1197.98042812, 1422.03376717],\n",
       "       [1197.15322247, 1425.26125052],\n",
       "       [1195.18682786, 1427.22581324],\n",
       "       [1192.54756515, 1428.48541161],\n",
       "       [1190.79677009, 1430.63568547],\n",
       "       [1190.16326586, 1433.83679038],\n",
       "       [1189.18829613, 1436.57160396],\n",
       "       [1186.99069625, 1438.00402138],\n",
       "       [1184.6316762 , 1439.27529227],\n",
       "       [1183.4620034 , 1441.73228615]])"
      ]
     },
     "execution_count": 35,
     "metadata": {},
     "output_type": "execute_result"
    }
   ],
   "source": [
    "conf "
   ]
  },
  {
   "cell_type": "markdown",
   "id": "72MXojZrAsyU",
   "metadata": {
    "id": "72MXojZrAsyU"
   },
   "source": [
    "conf contains the tuple with the lower bound and the upper bound for our confidence level "
   ]
  },
  {
   "cell_type": "markdown",
   "id": "Ec09-Q8sAyqp",
   "metadata": {
    "id": "Ec09-Q8sAyqp"
   },
   "source": [
    "W'll analyse fc and conf to see that if our model is usable or not\n",
    "\n"
   ]
  },
  {
   "cell_type": "markdown",
   "id": "molgKSBhA2nS",
   "metadata": {
    "id": "molgKSBhA2nS"
   },
   "source": [
    "We will use step as 30 bec we just want to forecast next 30 days"
   ]
  },
  {
   "cell_type": "code",
   "execution_count": 37,
   "id": "IW9B3oPuBdHy",
   "metadata": {
    "id": "IW9B3oPuBdHy"
   },
   "outputs": [],
   "source": [
    "fc = pd.Series(fc, index=test[ :step].index)\n",
    "lower = pd.Series(conf[:,0], index=test[ :step].index)\n",
    "upper = pd.Series(conf[:,1], index=test[ :step].index)"
   ]
  },
  {
   "cell_type": "code",
   "execution_count": 38,
   "id": "p9_BdCrMBhps",
   "metadata": {
    "colab": {
     "base_uri": "https://localhost:8080/",
     "height": 572
    },
    "id": "p9_BdCrMBhps",
    "outputId": "6e85d87b-a60b-4e37-f718-6999a63fcb16"
   },
   "outputs": [
    {
     "data": {
      "text/plain": [
       "<matplotlib.legend.Legend at 0x7fd7ad9af050>"
      ]
     },
     "execution_count": 38,
     "metadata": {},
     "output_type": "execute_result"
    },
    {
     "data": {
      "image/png": "[encoded data removed]",
      "text/plain": [
       "<Figure size 1152x576 with 1 Axes>"
      ]
     },
     "metadata": {},
     "output_type": "display_data"
    }
   ],
   "source": [
    "plt.figure(figsize=(16, 8))\n",
    "plt.plot(test[ :step], label=\"actual\")\n",
    "plt.plot(fc, label=\"forecast\")\n",
    "plt.fill_between(lower.index, lower, upper, color=\"k\", alpha=0.1)\n",
    "plt.title(\"Forecast vs Actual\")\n",
    "plt.legend(loc=\"upper left\")"
   ]
  },
  {
   "cell_type": "markdown",
   "id": "VMj7Bm7iBoTN",
   "metadata": {
    "id": "VMj7Bm7iBoTN"
   },
   "source": [
    "Actual price is the blue line and the Forecasted price is the green line , Arima model contains a slope that is positive while the actual values has a slope that is negative , even if we add a constant that would be negative it would fit the data better but it's not optimal"
   ]
  }
 ],
 "metadata": {
  "colab": {
   "collapsed_sections": [
    "33eee361",
    "5bc3a4de",
    "c1d35391",
    "0de549a4"
   ],
   "provenance": []
  },
  "kernelspec": {
   "display_name": "Python 3 (ipykernel)",
   "language": "python",
   "name": "python3"
  },
  "language_info": {
   "codemirror_mode": {
    "name": "ipython",
    "version": 3
   },
   "file_extension": ".py",
   "mimetype": "text/x-python",
   "name": "python",
   "nbconvert_exporter": "python",
   "pygments_lexer": "ipython3",
   "version": "3.8.13"
  }
 },
 "nbformat": 4,
 "nbformat_minor": 5
}
